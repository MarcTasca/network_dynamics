{
 "cells": [
  {
   "cell_type": "markdown",
   "metadata": {},
   "source": [
    "## Outline\n",
    "- Max-flow min-cut theorem (intervention and applications)\n",
    "- Network flow optimization\n",
    "- Implementation of Ford-Fulkerson"
   ]
  },
  {
   "cell_type": "code",
   "execution_count": null,
   "metadata": {},
   "outputs": [],
   "source": [
    "import numpy as np\n",
    "import networkx as nx\n",
    "import matplotlib.pyplot as plt\n",
    "%matplotlib inline\n",
    "\n",
    "G = nx.DiGraph()\n",
    "G.add_edges_from([(0,1),(0,2),(1,2),(2,3),(1,3)])\n",
    "\n",
    "pos = nx.spring_layout(G)\n",
    "\n",
    "nx.draw_networkx_edge_labels(G,pos,edge_labels={(0,1):'2',\n",
    "(0,2):'1',(1,2):'4',(1,3):'3',\n",
    "(2,3):'2'},font_color='red')\n",
    "\n",
    "nx.draw(G, pos, with_labels = True)"
   ]
  },
  {
   "cell_type": "markdown",
   "metadata": {},
   "source": [
    "## Intervention in capacitated networks: two dual problems\n",
    "\n",
    "### Adversarial intervention\n",
    "**Question**: suppose you are an adversarial agent that aims at minimizing the throughput that can be sent from 0 to 3 by removing capacity subject to a budget constraint. \n",
    "- Where do you remove the capacity? \n",
    "- What is the minimal capacity that you need to remove in order to disconnect the network?"
   ]
  },
  {
   "cell_type": "markdown",
   "metadata": {},
   "source": [
    "**Answer** \n",
    "- Since the bottleneck of the flow is the min-cut of the network, the adversary should reduce the capacity of such a cut. The cut capacities in this example are:\n",
    "\n",
    "    - $U=\\{0,1,2\\},U^C=\\{3\\}$ -> $C_U = 5$\n",
    "    - $U=\\{0,1\\},U^C=\\{2,3\\}$ -> $C_U = 8$\n",
    "    - $U=\\{0,2\\},U^C=\\{1,3\\}$ -> $C_U = 4$\n",
    "    - $U=\\{0\\},U^C=\\{1,2,3\\}$ -> $C_U = 3$\n",
    "\n",
    "\n",
    "- in this case, the adversary should reduce capacity of edges between the sets $\\{0\\}$ and the set $\\{1,2,3\\}$, which are $(0,1)$ and $(0,2)$. The minimal capacity that needs to be removed equals the capacity of the min-cut of the network, which is 3."
   ]
  },
  {
   "cell_type": "markdown",
   "metadata": {},
   "source": [
    "### Planner intervention\n",
    "**Question**: Suppose you are a planner that aims at maximing the flow that can be send from 0 to 3. Where do you allocate the capacity?\n",
    "\n",
    "**Answer**: you should allocate the capacity in such a way that the capacity of the min-cut is maximized."
   ]
  },
  {
   "cell_type": "markdown",
   "metadata": {},
   "source": [
    "### Example 1"
   ]
  },
  {
   "cell_type": "code",
   "execution_count": null,
   "metadata": {},
   "outputs": [],
   "source": [
    "G.remove_edge(0,2)\n",
    "\n",
    "nx.draw_networkx_edge_labels(G,pos,edge_labels={(0,1):'2',(1,2):'4',(1,3):'1',\n",
    "(2,3):'3'},font_color='red')\n",
    "\n",
    "nx.draw(G, pos, with_labels = True)"
   ]
  },
  {
   "cell_type": "markdown",
   "metadata": {},
   "source": [
    "**Problem**: suppose you can allocate a capacity 4 (that can be distributed on several links). Where do you allocate it?\n",
    "\n",
    "**Solution**: first compute the capacity of the cuts:\n",
    "- $U=\\{0,1,2\\},U^C=\\{3\\}$ -> $C_U = 4$\n",
    "- $U=\\{0,1\\},U^C=\\{2,3\\}$ -> $C_U = 5$\n",
    "- $U=\\{0,2\\},U^C=\\{1,3\\}$ -> $C_U = 5$\n",
    "- $U=\\{0\\},U^C=\\{1,2,3\\}$ -> $C_U = 2$\n",
    "\n",
    "The min-cut is $\\{0\\},\\{1,2,3\\}$, thus some capacity should be allocated on the links between these set, i.e., on $(0,1)$.\n",
    "\n",
    "Is allocating capacity 4 on $(0,1)$ optimal? NO!\n",
    "\n",
    "In such a case, the cut capacities become:\n",
    "\n",
    "- $U=\\{0,1,2\\},U^C=\\{3\\}$ -> $C_U = 4$\n",
    "- $U=\\{0,1\\},U^C=\\{2,3\\}$ -> $C_U = 5$\n",
    "- $U=\\{0,2\\},U^C=\\{1,3\\}$ -> $C_U = 5$\n",
    "- $U=\\{0\\},U^C=\\{1,2,3\\}$ -> $C_U = 6$\n",
    "\n",
    "and the corresponding throughput is 4.\n",
    "\n",
    "You should first allocate capacity 2 on edge $(0,1)$, until there are two min-cuts. The cut capacities then become\n",
    "\n",
    "- $U=\\{0,1,2\\},U^C=\\{3\\}$ -> $C_U = 4$\n",
    "- $U=\\{0,1\\},U^C=\\{2,3\\}$ -> $C_U = 5$\n",
    "- $U=\\{0,2\\},U^C=\\{1,3\\}$ -> $C_U = 5$\n",
    "- $U=\\{0\\},U^C=\\{1,2,3\\}$ -> $C_U = 4$,\n",
    "\n",
    "with still a capacity 2 to be allocated. This remaining capacity should be allocated on both the first and the last cut, so the final solution is to allocate capacity 3 on the edge $(0,1)$, and 1 on either $(1,3)$ or $(2,3)$, which leads to cuts\n",
    "\n",
    "- $U=\\{0,1,2\\},U^C=\\{3\\}$ -> $C_U = 5$\n",
    "- $U=\\{0,1\\},U^C=\\{2,3\\}$ -> $C_U \\ge 5$\n",
    "- $U=\\{0,2\\},U^C=\\{1,3\\}$ -> $C_U \\ge 5$\n",
    "- $U=\\{0\\},U^C=\\{1,2,3\\}$ -> $C_U = 5$,\n",
    "\n",
    "and maximal throughput 5."
   ]
  },
  {
   "cell_type": "markdown",
   "metadata": {},
   "source": [
    "### Example 2\n",
    "In some cases, it is possible that the capacity of two min-cuts is increased by improving only one edge.\n",
    "Consider the following example:"
   ]
  },
  {
   "cell_type": "code",
   "execution_count": null,
   "metadata": {},
   "outputs": [],
   "source": [
    "G.add_edge(0,2)\n",
    "G.remove_edge(1,3)\n",
    "\n",
    "nx.draw_networkx_edge_labels(G,pos,edge_labels={(0,1):'1',(0,2):'1',(1,2):'1',\n",
    "(2,3):'3'},font_color='red')\n",
    "\n",
    "nx.draw(G, pos, with_labels = True)"
   ]
  },
  {
   "cell_type": "markdown",
   "metadata": {},
   "source": [
    "**Question 1**: what is the maximal throughput that can be send from 0 to 3?\n",
    "\n",
    "**Answer**: we start by computing the cut capacities:\n",
    "\n",
    "- $U=\\{0,1,2\\},U^C=\\{3\\}$ -> $C_U = 3$\n",
    "- $U=\\{0,1\\},U^C=\\{2,3\\}$ -> $C_U = 2$\n",
    "- $U=\\{0,2\\},U^C=\\{1,3\\}$ -> $C_U = 4$\n",
    "- $U=\\{0\\},U^C=\\{1,2,3\\}$ -> $C_U = 2$.\n",
    "\n",
    "The maximal throughput is thus 2.\n",
    "\n",
    "**Question 2**: suppose you can allocate a capacity 1 on the network. Where do you allocate it?\n",
    "\n",
    "**Answer**: there are two mincuts. \n",
    "- For the mincut $U=\\{0,1\\},U^C=\\{2,3\\}$,\n",
    "$$\n",
    "C_U = c(0,2) + c(1,2)\n",
    "$$ \n",
    "- For the mincut $U=\\{0\\},U^C=\\{1,2,3\\}$,\n",
    "$$\n",
    "C_U = c(0,1) + c(0,2)\n",
    "$$\n",
    "\n",
    "Note that both the capacities can be improved by adding capacity 1 to the edge $(0,2)$. By doing this, the capacities become\n",
    "\n",
    "- $U=\\{0,1,2\\},U^C=\\{3\\}$ -> $C_U = 3$\n",
    "- $U=\\{0,1\\},U^C=\\{2,3\\}$ -> $C_U = 3$\n",
    "- $U=\\{0,2\\},U^C=\\{1,3\\}$ -> $C_U = 4$\n",
    "- $U=\\{0\\},U^C=\\{1,2,3\\}$ -> $C_U = 3$,\n",
    "\n",
    "and the maximal throughput becomes 3."
   ]
  },
  {
   "cell_type": "markdown",
   "metadata": {},
   "source": [
    "Obviously, these type of considerations can be implemented algorithmically."
   ]
  },
  {
   "cell_type": "markdown",
   "metadata": {},
   "source": [
    "## Multi origin-destination maxflow"
   ]
  },
  {
   "cell_type": "markdown",
   "metadata": {},
   "source": [
    "So far, we have studied maximum flow problems when there is a single origin-destination pair. \n",
    "\n",
    "For some applications, it is useful to find maximum flow with multiple origin-destinations.\n",
    "\n",
    "The multi o-d maxflow problem may be rephrased in terms of single o-d maxflow problem, and then handled with the instruments introduced above. Let us see this by an example."
   ]
  },
  {
   "cell_type": "code",
   "execution_count": null,
   "metadata": {},
   "outputs": [],
   "source": [
    "G = nx.DiGraph()\n",
    "G.add_edges_from([(0,2),(0,1),(2,4),(1,3),(2,5),(3,4),(4,5),(1,4),(1,5)])\n",
    "\n",
    "pos = {0: [0,2], 1: [1,0], 2: [1,3], 3: [3,0], 4: [3,2], 5:[1,2] }\n",
    "\n",
    "nx.draw_networkx_edge_labels(G,pos,edge_labels={(0,1):'4',\n",
    "(0,2):'6',(2,4):'2',(2,5):'5',\n",
    "(3,4):'6', (4,5):'1', (1,3):'2', (1,4):'3', (1,5): ' 5'},font_color='blue')\n",
    "\n",
    "nx.draw(G, pos, with_labels = True)"
   ]
  },
  {
   "cell_type": "markdown",
   "metadata": {},
   "source": [
    "Consider sources $\\{0,1\\}$ and sinks $\\{4,5\\}$. To reconduct the problem to a single source and sink, an equivalent problem is to add an additional pair of nodes 'S' and 'T', and add edges from $S$ to every source of the original network, and from every sink of the original network to $T$, with infinite capacity.\n",
    "\n",
    "For simplicity, let us call 6 and 7 the new nodes.\n",
    "\n",
    "We define the resulting network for this example."
   ]
  },
  {
   "cell_type": "code",
   "execution_count": null,
   "metadata": {},
   "outputs": [],
   "source": [
    "G1 = nx.DiGraph()\n",
    "G1.add_edges_from([(0,2),(0,1),(2,4),(1,3),(2,5),(3,4),(4,5),(1,4),(1,5)])\n",
    "\n",
    "# add additional nodes and edges\n",
    "G1.add_edges_from([(6,0),(6,1),(4,7),(5,7)])\n",
    "\n",
    "# define position for the two new nodes\n",
    "pos = {0: [0,2], 1: [1,0], 2: [1,3], 3: [3,0], 4: [3,2], 5:[1,2], 6:[-1,1], 7:[2,0.5]}\n",
    "\n",
    "nx.draw_networkx_edge_labels(G,pos,edge_labels={(0,1):'4',\n",
    "(0,2):'6',(2,4):'2',(2,5):'5',\n",
    "(3,4):'6', (4,5):'1', (1,3):'2', (1,4):'3', (1,5): ' 5',\n",
    "(6,0):'inf',(6,1):'inf',(4,7):'inf',(5,7):'inf'},font_color='blue')\n",
    "\n",
    "nx.draw(G1, pos, with_labels = True)"
   ]
  },
  {
   "cell_type": "markdown",
   "metadata": {},
   "source": [
    "**Proposition**: the max-flow in the new network with source S and sink T is equivalent to the max-flow of the original problem."
   ]
  },
  {
   "cell_type": "code",
   "execution_count": null,
   "metadata": {},
   "outputs": [],
   "source": [
    "# We define the capacities, and use NetworkX algorithms to compute maximum flow\n",
    "\n",
    "G1[0][2]['capacity'] = 6\n",
    "G1[0][1]['capacity'] = 4\n",
    "G1[2][4]['capacity'] = 4\n",
    "G1[2][5]['capacity'] = 5\n",
    "G1[3][4]['capacity'] = 6\n",
    "G1[4][5]['capacity'] = 1\n",
    "G1[1][3]['capacity'] = 2\n",
    "G1[1][4]['capacity'] = 3\n",
    "G1[1][5]['capacity'] = 5\n",
    "\n",
    "# call S = 6, and T = 7, and assign infinite capacity\n",
    "G1[6][0]['capacity'] = float('inf')\n",
    "G1[6][1]['capacity'] = float('inf')\n",
    "G1[4][7]['capacity'] = float('inf')\n",
    "G1[5][7]['capacity'] = float('inf')\n",
    "\n",
    "nx.algorithms.flow.maximum_flow(G1,6,7)"
   ]
  },
  {
   "cell_type": "code",
   "execution_count": null,
   "metadata": {},
   "outputs": [],
   "source": [
    "# compute also the minimum cut\n",
    "nx.algorithms.flow.minimum_cut(G1,6,7)"
   ]
  },
  {
   "cell_type": "markdown",
   "metadata": {},
   "source": [
    "As expected, the minimum cut equals the maximal flow."
   ]
  },
  {
   "cell_type": "markdown",
   "metadata": {},
   "source": [
    "## Application of multi o-d maxflow problems: perfect matching"
   ]
  },
  {
   "cell_type": "markdown",
   "metadata": {},
   "source": [
    "**Definition**: given a graph $G=(V,E)$, a matching is a subset of edges $M \\subseteq E$ such that no two edges in $M$ share a common node (head or tail).\n",
    "\n",
    "**Definition**: Consider a simple bipartite graph, whereby the node set can be partitioned as $V = V_0 \\cup V_1$, with $V_0 \\cap V_1 = \\emptyset$, and no edges between nodes of the same set exist. For $h = 0,1$, we shall refer to a matching $M$ in $G$ as $V_h$-perfect (or $V_h$-saturating) if every node in $V_h$ is matched in $M$.\n",
    "\n",
    "### Example"
   ]
  },
  {
   "cell_type": "code",
   "execution_count": null,
   "metadata": {},
   "outputs": [],
   "source": [
    "G = nx.Graph()\n",
    "G.add_edges_from([(0,2),(0,3),(1,3),(1,4)])\n",
    "\n",
    "pos = {0:[0,2], 1:[0,0], 2:[2,3], 3:[2,1], 4:[2,-1]}\n",
    "\n",
    "nx.draw(G, pos, with_labels=True)"
   ]
  },
  {
   "cell_type": "markdown",
   "metadata": {},
   "source": [
    "We immediately observe that the graph is bipartite, with $V_0 = \\{0,1\\}, V_1 = \\{2,3,4\\}$.\n",
    "\n",
    "We now provide a $V_0$-perfect matching, i.e., a matching that matches every node in $V_0$"
   ]
  },
  {
   "cell_type": "code",
   "execution_count": null,
   "metadata": {},
   "outputs": [],
   "source": [
    "G = nx.Graph()\n",
    "G.add_edges_from([(0,2),(1,3)])\n",
    "G.add_node(4)\n",
    "\n",
    "pos = {0:[0,2], 1:[0,0], 2:[2,3], 3:[2,1], 4:[2,-1]}\n",
    "\n",
    "nx.draw(G, pos, with_labels=True)"
   ]
  },
  {
   "cell_type": "markdown",
   "metadata": {},
   "source": [
    "**Question**: can you find a $V_1$ perfect matching?"
   ]
  },
  {
   "cell_type": "markdown",
   "metadata": {},
   "source": [
    "**Hall's marriage Theorem**: for a simple bipartite graph $G = (V,E)$ and $V_0 \\subseteq V$, there exists a $V_0$-perfect matching in $G$ if and only if\n",
    "\n",
    "$$\n",
    "|\\mathcal{U}| \\le |\\mathcal{N}_{\\mathcal{U}}| \\quad \\forall \\mathcal{U} \\subseteq V_0,\n",
    "$$\n",
    "\n",
    "where\n",
    "$$\n",
    "\\mathcal{N}_{\\mathcal{U}} = \\sum_{i \\in \\mathcal{U}} \\mathcal{N}_i\n",
    "$$\n",
    "is the neighborhood of $\\mathcal{U}$ in $G$."
   ]
  },
  {
   "cell_type": "markdown",
   "metadata": {},
   "source": [
    "In other words, for every subset $U$ of $V_0$, we require that $U$ possesses a number of neighboring nodes which is at least the number of nodes in $U$. The necessity of such condition is trivial to verify, for the sufficiency we refer to the lecture notes.\n",
    "\n",
    "We here focus on the algorithmic viewpoint of matching problems and on applications."
   ]
  },
  {
   "cell_type": "markdown",
   "metadata": {},
   "source": [
    "**Application, example**: assume there are 5 people and 5 books (with one copy of each book), and each person expresses interest in some of the books. Is there a way to assign to every person a book of interest?\n",
    "\n",
    "We can represent this situation by a simple bipartite network, where $V_0$ is the set of people and $V_1$ and the set of books, and an edge $(n_0,n_1)$ (with $n_0 \\in V_0$, $n_1 \\in V_1$) exists if the person $n_0$ is interested in the book $n_1$. \n",
    "\n",
    "The question may be rephrased in: \"does a $V_0$-perfect matching exist?\" \n",
    "\n",
    "If there are less books than people, i.e., if $|V_1|<|V_0|$, a $V_0$-perfect matching cannot exist. This follows immediately from Hall's theorem by taking $\\mathcal{U}=V_0$, and observing that $N_{\\mathcal{U}} \\subseteq V_1$.\n",
    "\n",
    "**Remark**: Note that a perfect matching (both for $V_0$ and $V_1$) can exist only if $|V_0|=|V_1|$.\n",
    "\n",
    "We consider a simple bipartite network, and try a naive algorithm to answer the question."
   ]
  },
  {
   "cell_type": "code",
   "execution_count": null,
   "metadata": {},
   "outputs": [],
   "source": [
    "G = nx.Graph()\n",
    "G.add_edges_from([(0,6),(0,7),(1,6),(1,7),(1,8),(2,5),(2,6),(2,7),(2,9),(3,7),(4,7),(4,8),(4,9)])\n",
    "\n",
    "pos = {0:[0,2], 1:[0,1], 2:[0,0], 3:[0,-1], 4:[0,-2], 5:[1,2], 6:[1,1], 7:[1,0], 8:[1,-1], 9:[1,-2]}\n",
    "\n",
    "nx.draw(G,pos, with_labels=True)"
   ]
  },
  {
   "cell_type": "markdown",
   "metadata": {},
   "source": [
    "We let the left nodes to be people, and the right nodes to be books. You can verify that the graph is bipartite.\n",
    "\n",
    "We try this greedy algorithm: for every person (from above to below) we assign the first book (from above to below) of interest."
   ]
  },
  {
   "cell_type": "code",
   "execution_count": null,
   "metadata": {},
   "outputs": [],
   "source": [
    "# Assign book 6 to person 0\n",
    "for u,v in G.edges():\n",
    "    G[u][v]['color'] = 'black'\n",
    "    \n",
    "G[0][6]['color'] = 'red'\n",
    "\n",
    "colors = [G[u][v]['color'] for u,v in G.edges()]\n",
    "\n",
    "nx.draw(G, pos, with_labels = True, edge_color = colors)"
   ]
  },
  {
   "cell_type": "code",
   "execution_count": null,
   "metadata": {},
   "outputs": [],
   "source": [
    "# Book 6 is not available for person 1, thus assign book 7\n",
    "G[1][7]['color'] = 'blue'\n",
    "\n",
    "colors = [G[u][v]['color'] for u,v in G.edges()]\n",
    "\n",
    "nx.draw(G, pos, with_labels = True, edge_color = colors)"
   ]
  },
  {
   "cell_type": "code",
   "execution_count": null,
   "metadata": {},
   "outputs": [],
   "source": [
    "# Assign book 5 to person 2\n",
    "G[2][5]['color'] = 'green'\n",
    "\n",
    "colors = [G[u][v]['color'] for u,v in G.edges()]\n",
    "\n",
    "nx.draw(G, pos, with_labels = True, edge_color = colors)"
   ]
  },
  {
   "cell_type": "markdown",
   "metadata": {},
   "source": [
    "Node 3 is not matched! The greedy algorithm fails in finding a perfect matching. \n",
    "\n",
    "However, this does not mean that a perfect matching does not exist. To verify that a perfect matching exists, one could verify the sufficient and necessary condition in Hall's marriage theorem. \n",
    "\n",
    "We instead show an analogy between maximal flows and perfect matching, and exploit such an analogy to find perfect matching by Ford-Fulkerson theorem."
   ]
  },
  {
   "cell_type": "markdown",
   "metadata": {},
   "source": [
    "Given a simple bipartite graph $G=(V,E)$, consider the directed capacitated graph $G1$, with node set $V \\cup s \\cup t$, and edge set constructed as follows:\n",
    "- for every node $n \\in V_0$, add an edge (s,n), with capacity 1;\n",
    "- for every node $n \\in V_1$, add an edge (n,t), with capacity 1;\n",
    "- for every undirected edge $(i,j)$ in $G$, add a directed edge $(i,j)$ in $G1$ with capacity 1.\n",
    "\n",
    "Let us construct $G1$."
   ]
  },
  {
   "cell_type": "code",
   "execution_count": null,
   "metadata": {},
   "outputs": [],
   "source": [
    "G1 = nx.DiGraph()\n",
    "G1.add_edges_from([(0,6),(0,7),(1,6),(1,7),(1,8),(2,5),(2,6),(2,7),(2,9),(3,7),(4,7),(4,8),(4,9)])\n",
    "G1.add_edges_from([(10,0),(10,1),(10,2),(10,3),(10,4),(5,11),(6,11),(7,11),(8,11),(9,11)])\n",
    "\n",
    "pos = {0:[0,2], 1:[0,1], 2:[0,0], 3:[0,-1], 4:[0,-2], 5:[1,2], 6:[1,1], 7:[1,0], 8:[1,-1], 9:[1,-2], 10:[-1,0], 11:[2,0]}\n",
    "\n",
    "nx.draw(G1,pos,with_labels=True)"
   ]
  },
  {
   "cell_type": "markdown",
   "metadata": {},
   "source": [
    "There is an analogy between perfect matchings and maximal flow on this auxiliary network $G1$. In particular, a $V_0$-perfect matching on $G$ exists if and only if it there exists a flow with throughput $|V_0|$ on the network $G1$. We can now exploit Ford-Fulkerson algorithm to find the maximum flow that can be sent in $G1$.\n",
    "\n",
    "**Remark**: the analogy can be proved by using the fact that, if the capacities of the edges are integers, then the maximum flow has integer components (see the lecture notes). Because of the network structure, if a maximum flow with throughput $|V_0|$ exists, then every node in $V_0$ has incoming and outcoming flow $1$, since all the edges have unitary capacity. Moreover, given a node $i \\in |V_0|$, if a $|V_0|$-perfect matching exists, then there exists $k \\in V_1$ such that\n",
    "\n",
    "$$\n",
    "f_{(i,j)} = \n",
    "\\begin{cases}\n",
    "1 \\quad \\text{if} \\ j = k \\\\\n",
    "0 \\quad \\text{otherwise}\n",
    "\\end{cases}\n",
    "$$\n",
    "\n",
    "Thus, given a maximum flow with throughput $|V_0|$, the associated $V_0$-perfect matching can be found by selecting all the edges $(i,j)$ ($i \\in V_0, j \\in V_1$) such that $f_{(i,j)}=1$.\n",
    "\n",
    "**Exercise**: find the maximum flow on $G1$, and deduce the perfect matching on $G$."
   ]
  },
  {
   "cell_type": "markdown",
   "metadata": {},
   "source": [
    "The analogy can be pushed further by finding perfect matching in weighted graphs. With respect to our example, this would mean to allow multiple copies of the books, and to allow people to take more than one book.\n",
    "\n",
    "In the last part of the lecture, we focus on network flow optimization."
   ]
  },
  {
   "cell_type": "markdown",
   "metadata": {},
   "source": [
    "# Network Flow optimization\n",
    "For this exercise, we will use CVXPY which is a Python-embedded modeling language for convex optimization problems. It allows to express problems in a natural way that follows the math, rather than in the restrictive standard form required by solvers (Matlab has the equivalent CVX).\n",
    "\n",
    "If CVXPY is not already in your environment, you can install it following the instructions reported [here](https://www.cvxpy.org/install/index.html). (for Anaconda in Windows run in your notebook the command **conda install -c conda-forge cvxpy**)"
   ]
  },
  {
   "cell_type": "markdown",
   "metadata": {},
   "source": [
    "Separable convex network flow optimization arises in several applications, e.g., shortest paths between origin and destination, system optimum network flows, user optimum network flows in homogeneous routing games, electrical current flows in resistor networks.\n",
    "\n",
    "Given a multigraph $(V,E)$, an **exogenous network flow** is a vector ${\\nu} \\in \\mathrm{R}^V$ such that\n",
    "\n",
    "\\begin{equation}\n",
    "\t\\sum_{i \\in V} \\nu_i = 0.\n",
    "\\end{equation}\n",
    "\n",
    "A network flow is a vector $f \\in \\mathrm{R}^E$ satisfying a positivity constraint and a mass conservation constraints, i.e.,\n",
    "\n",
    "\\begin{equation}\n",
    " f \\ge \\mathbf{0}, \\quad Bf = \\nu.\n",
    "\\end{equation}\n",
    "\n",
    "Every edge is endowed with a separable non-decreasing convex cost function $\\psi_e(f_e)$ such that $\\psi_e(0)=0$. \n",
    "\n",
    "Given an exogenous flow $\\nu$ and a network with node-edge matrix $B$, we study the following optimization problem:\n",
    "\n",
    "\\begin{equation}\n",
    "\\begin{aligned}\n",
    "\tf^* \\in \\ & \\underset{\\substack{f \\in \\mathrm{R}^{E}_+ \\\\ B f = \\nu}}{\\arg\\min}\n",
    "\t& & \\sum_{e \\in E} \\psi_e (f_e).\n",
    "\\end{aligned}\n",
    "\\end{equation}\n",
    "\n",
    "The ratio $\\psi_e(f_e) / f_e$ may be interpreted as the cost per unit of flow sent along the edge $e$. The convexity of $\\psi_e(f_e)$ is thus equivalent to requiring that the marginal cost for sending some flow on each edge is non-decreasing in the flow itself."
   ]
  },
  {
   "cell_type": "markdown",
   "metadata": {},
   "source": [
    "This class of problems may be applied for shortest paths algorithms in a two-terminal network with origin and destination $(o,d)$. For instance:\n",
    "- if $\\psi_e(f_e) = f_e$, the cost for a unit of flow is 1, which means that all the edges have same length 1, and the cost paid for sending flow along an edge is simply proportional to the flow $f_e$ itself;\n",
    "- if $\\psi_e(f_e) = l_e f_e$, each edge is endowed with a length $l_e$ which differs from edge to edge. Even in this formulation, the cost for sending a unit of flow on the edge $e$ does not depend on $f_e$, which means that congestion effects are not taken into account. Congestion effects appear when considering strictly convex cost functions.\n",
    "\n",
    "### Example "
   ]
  },
  {
   "cell_type": "code",
   "execution_count": null,
   "metadata": {},
   "outputs": [],
   "source": [
    "import numpy as np\n",
    "import networkx as nx\n",
    "import matplotlib.pyplot as plt\n",
    "%matplotlib inline\n",
    "\n",
    "G = nx.DiGraph()\n",
    "\n",
    "G.add_edges_from([(0,1),(0,2),(0,3),(1,3),(2,3)])\n",
    "\n",
    "pos = {0:[0,0], 1:[1,2], 2:[1,1], 3:[2,0]}\n",
    "\n",
    "nx.draw_networkx_edge_labels(G,pos,edge_labels={(0,1):'1',\n",
    "(0,2):'2',(0,3):'3',(1,3):'4',\n",
    "(2,3):'5'},font_color='red')\n",
    "\n",
    "nx.draw(G, pos, with_labels=True)"
   ]
  },
  {
   "cell_type": "markdown",
   "metadata": {},
   "source": [
    "We now use network flow optimization to find the shortest path from 0 to 3.\n",
    "\n",
    "Since the problem is linear, the solution will be to allocate the flow on a convex combination of the optimal paths. The optimal paths can be thus deduced from the non-zero components of the optimal flow."
   ]
  },
  {
   "cell_type": "code",
   "execution_count": null,
   "metadata": {},
   "outputs": [],
   "source": [
    "import cvxpy as cp\n",
    "\n",
    "# Problem data.\n",
    "\n",
    "# Incidence matrix of the graph\n",
    "B = np.array([[1,1,1,0,0],[-1,0,0,1,0],[0,-1,0,0,1],[0,0,-1,-1,-1]])\n",
    "n_edges = B.shape[1]\n",
    "\n",
    "# exogenous flow vector: one unit of flow enters the origin and exits the destination node\n",
    "# the solution of the shortest path problem is actually independent on the throughput value because of the linearity\n",
    "tau = 1\n",
    "nu = np.array([1, 0, 0, -1]) * tau\n",
    "\n",
    "# l stores the coefficients of the linear terms of the objective function, in this case the length of the links.\n",
    "l = np.array([6,2,6,3,3]) # 1d array\n",
    "\n",
    "# Construct the problem.\n",
    "f = cp.Variable(n_edges)\n",
    "objective = cp.Minimize(l.T @ f)\n",
    "constraints = [B @ f == nu, f >=0]\n",
    "prob = cp.Problem(objective, constraints)\n",
    "\n",
    "# The optimal objective value is returned by `prob.solve()`.\n",
    "result = prob.solve()\n",
    "# The optimal value for f is stored in `f.value`.\n",
    "print(\"Optimal f:\", f.value)"
   ]
  },
  {
   "cell_type": "markdown",
   "metadata": {},
   "source": [
    "The following characterization may be used to individuate the shortest paths: if the flow on a path $p$ is positive (i.e., if the flow on all the edges that compose the path is positive), then $p$ is a shortest path.\n",
    "\n",
    "In this case the optimal path is 0-2-3, since the two non-zero components of $f^*$ correspond to links 2 and 5."
   ]
  },
  {
   "cell_type": "markdown",
   "metadata": {},
   "source": [
    "This can be used for instance to compute the diameter of a network, the average distance between the nodes, and so on.\n",
    "\n",
    "However, this is not the most efficient way to do this, and usually NetworkX has built-in functions that do this without using convex optimization."
   ]
  },
  {
   "cell_type": "markdown",
   "metadata": {},
   "source": [
    "# Traffic applications with congestion\n",
    "\n",
    "## Pigou's example"
   ]
  },
  {
   "cell_type": "markdown",
   "metadata": {},
   "source": [
    "Pigou was the first to illustrate the role of externality in users' choices, and the difference between user optimum and system optimum flow distributions.\n",
    "\n",
    "We consider the traffic network with delay functions shown in figure below, which is assumed to\n",
    "have a unit exogenous inflow at node $o$ and a unit exogenous outflow at node $d$.\n",
    "\n",
    "![figure](pigou.png)\n"
   ]
  },
  {
   "cell_type": "markdown",
   "metadata": {},
   "source": [
    "1.  Determine the social (system) optimum flow distribution using CVXPY. The social optimum flow distribution is defined as the one minimizing the total delay $\\sum_{e\\in \\mathcal{E}} \\psi_e(f_e)$, where on every link $e \\in \\mathcal{E}$, the cost is $\\psi_e(f_e) = f_e d_e(f_e)$ with $d_e(f_e)$ being the delay function. (note that if $d_e(f_e)$ is constant, i.e., if there is no congestion, the problem reduces to finding the shortest path)\n",
    "2. Determine the user optimum flow (Wardrop equilibrium) using CVXPY.\n",
    "3. Find tolls to align user optimum to social optimum."
   ]
  },
  {
   "cell_type": "markdown",
   "metadata": {},
   "source": [
    "### Solution"
   ]
  },
  {
   "cell_type": "markdown",
   "metadata": {},
   "source": [
    "1.  **Compute social optimum flows.** The social optimum of the network flow problem can be computed with CVXPY using the following code."
   ]
  },
  {
   "cell_type": "code",
   "execution_count": null,
   "metadata": {},
   "outputs": [],
   "source": [
    "import numpy as np\n",
    "\n",
    "# Problem data.\n",
    "\n",
    "# compute node_edge incidence matrix\n",
    "# +1 if the node is the source (tail) of an edge \n",
    "# and -1 if it is the destination (head) of the edge.\n",
    "B = np.array([[1, 1],[-1,-1]])\n",
    "n_edges = B.shape[1]\n",
    "\n",
    "# exogenous flow vector: one unit of flow enters the origin and \n",
    "# exits the destination node\n",
    "nu = np.array([1, -1])\n",
    "# Q and l store the coefficients of the quadratic\n",
    "# and linear terms of the objective function.\n",
    "# In this case, the objective function is\n",
    "# f_1^2 + f_2\n",
    "Q = np.diag([1,0]) # diagonal matrix\n",
    "l = np.array([0,1]) # 1d array\n",
    "\n",
    "# Construct the problem.\n",
    "f = cp.Variable(n_edges)\n",
    "objective = cp.Minimize(cp.quad_form(f,Q) + l.T @ f)\n",
    "constraints = [B @ f == nu, f >=0]\n",
    "prob = cp.Problem(objective, constraints)\n",
    "\n",
    "# The optimal objective value is returned by `prob.solve()`.\n",
    "cost_opt = prob.solve()\n",
    "# The optimal value for f is stored in `f.value`.\n",
    "opt_flow = f.value\n",
    "print(\"Social optimal flow:\", opt_flow)\n",
    "print(\"Optimal cost:\", cost_opt)"
   ]
  },
  {
   "cell_type": "markdown",
   "metadata": {},
   "source": [
    "2.  **Compute Wardrop equilibrium.** \n",
    "\n",
    "**Definition**: The Wardrop equilibrium is a path flow distribution such that if a path $p$ is used, then the cost of the path is minimal, i.e.,\n",
    "\n",
    "$$\n",
    "z_p>0 \\implies c_p(z) \\le c_r(z), \\quad \\forall \\ r \\in \\mathcal{P},\n",
    "$$\n",
    "\n",
    "where $\\mathcal{P}$ is the path set, $f=Az$ is the projection of the path flow on the link set, and $c_p(z) = \\sum_{e: e \\in p} d_e(f_e)$, namely the cost of a path is the sum of the delays that compose the path.\n",
    "\n",
    "We say that $f$ is a Wardrop equilibrium if it is induced by a Wardrop equilibrium $z$ via $f=Az$.\n",
    "\n",
    "**Theorem**: $f^{(0)}$ is a Wardrop equilibrium if and only if it is solution of a network flow optimization given that the cost functions $\\psi_e(f_e)$ are chosen as\n",
    "\n",
    "$$\n",
    "\\psi_e(f_e) = \\int_0^{f_e} d_e(s)~\\mathrm{d}s.\n",
    "$$\n",
    "For our problem, the objective function is\n",
    "$$\n",
    "\\frac{f_1^2}{2}+f_2\n",
    "$$"
   ]
  },
  {
   "cell_type": "code",
   "execution_count": null,
   "metadata": {},
   "outputs": [],
   "source": [
    "B = np.array([[1, 1],[-1,-1]])\n",
    "n_edges = B.shape[1]\n",
    "\n",
    "# exogenous flow vector: one unit of flow enters the origin and \n",
    "# exits the destination node\n",
    "nu = np.array([1, -1])\n",
    "# Q and l store the coefficients of the quadratic\n",
    "# and linear terms of the objective function.\n",
    "Q = np.diag([1/2,0]) # diagonal matrix\n",
    "l = np.array([0,1]) # 1d array\n",
    "\n",
    "# Construct the problem.\n",
    "f = cp.Variable(n_edges)\n",
    "cp.quad_form(f,Q)\n",
    "objective = cp.Minimize(cp.quad_form(f,Q) + l.T @ f)\n",
    "constraints = [B @ f == nu, f >=0]\n",
    "prob = cp.Problem(objective, constraints)\n",
    "\n",
    "# The optimal objective value is returned by `prob.solve()`.\n",
    "result_w = prob.solve()\n",
    "# The optimal value for f is stored in `f.value`.\n",
    "print(\"Wardrop equilibrium:\", f.value)"
   ]
  },
  {
   "cell_type": "markdown",
   "metadata": {},
   "source": [
    "Note that the social cost under Wardrop equilibrium is not the solution of the optimization problem above. It is\n",
    "\n",
    "$$\n",
    "\\sum_{e}f_e^{(0)}d_e(f_e^{(0)}),\n",
    "$$\n",
    "where \n",
    "\n",
    "\\begin{equation}\n",
    "\\begin{aligned}\n",
    "\tf^{(0)} \\in \\ & \\underset{\\substack{f \\in \\mathrm{R}^{E}_+ \\\\ B f = \\nu}}{\\arg\\min}\n",
    "\t& & \\sum_{e \\in E} \\int_{0}^{f_e} d_e (s) ds.\n",
    "\\end{aligned}\n",
    "\\end{equation}\n",
    "is the Wardrop equilibrium of the game, namely the total travel time at the equilibrium. The Price of Anarchy is\n",
    "\n",
    "$$\n",
    "PoA = \\frac{\\sum_{e}f_e^{(0)}d_e(f_e^{(0)})}{\\sum_{e}f_e^{*}d_e(f_e^{*})}\n",
    "$$\n",
    "\n",
    "This observation immediately implies that the price of anarchy cannot be less than 1."
   ]
  },
  {
   "cell_type": "code",
   "execution_count": null,
   "metadata": {},
   "outputs": [],
   "source": [
    "def cost(f):\n",
    "    return f[0]*f[0]+f[1] # compute the social cost (total travel time) (f_1)^2+f_2\n",
    "\n",
    "cost_w = cost(f.value) # evaluate the social cost at the Wardrop equilibrium\n",
    "\n",
    "print(\"Wardrop cost:\", cost_w)"
   ]
  },
  {
   "cell_type": "markdown",
   "metadata": {},
   "source": [
    "We can compute the price of anarchy, which is the ratio between the Wardrop cost and the optimal cost."
   ]
  },
  {
   "cell_type": "code",
   "execution_count": null,
   "metadata": {},
   "outputs": [],
   "source": [
    "PoA = cost_w/cost_opt\n",
    "\n",
    "print(\"The price of anarchy:\", PoA)"
   ]
  },
  {
   "cell_type": "markdown",
   "metadata": {},
   "source": [
    "**Theorem** [Roughgarden et al., 2006] The maximum price of anarchy achievable with affine delay functions is $4/3 \\sim 1.33333...$.\n",
    "\n",
    "Thus, this simple example achieves the maximum possible price of anarchy!\n",
    "\n",
    "![figure](pigou.png)\n",
    "\n",
    "In other words, what is the price of anarchy? \n",
    "\n",
    "- Assume that users' choices are imposed by a central planner. The flow distribution emerging from this centralized decision scheme is the social optimum flow distribution.\n",
    "- In contrast with this, assume that users are free to choose their path based on other users' choices. The flow distribution emerging from this uncoordinated selfish behaviour is the Wardrop equilibrium, in which every user selects a path with minimal delay.\n",
    "\n",
    "Note indeed that under system optimum flow distribution $(1/2, 1/2)$, the delay associated to each path (in this case, links) are\n",
    "\n",
    "$$\n",
    "d_1(1/2) = 1/2, \\qquad d_2(1/2) = 1,\n",
    "$$\n",
    "\n",
    "thus an agent that is using the edge 2, if free to choose, will switch to edge 1.\n",
    "\n",
    "There are two ways to improve the performance of the network:\n",
    "- the first one is to improve the infrastructure (e.g., improving the delay functions of the links, or adding new links), which is called **network design problem**;\n",
    "- the second way is to influence the agents' behaviour, in such a way to align user optimum flows with social optimum flows and reduce the inefficiency due to uncoordinated agent behaviour. This can be done in practice by information design, or adding tolls to the links of the network, which is the subject of the next part."
   ]
  },
  {
   "cell_type": "markdown",
   "metadata": {},
   "source": [
    "### How to add tolls: marginal tolls\n",
    "The property of Wardrop equilibrium is that the cost of each used path (link, in this case) is the same.\n",
    "\n",
    "However, when switching from edge 2 to edge 1 (same argument may be applied to paths in more complicated networks), an infinitesimal agent produces a modification in the social cost which is\n",
    "\n",
    "$$\n",
    "\\psi_1'(f_1)-\\psi_2'(f_2) = d_1(f_1)+f_1 d_1'(f_1) - d_2(f_2)-f_2 d_2'(f_2),\n",
    "$$\n",
    "\n",
    "where $f_e d_e'(f_e)$ is the derivative of the cost that the other users on edge $e$ will pay due to the addition of infinitesimal flow on edge $e$.\n",
    "\n",
    "The idea of marginal tolls is that if a toll equal to $f_e^{*} d_e'(f_e^{*})$ is added to each link $e$ (where $f^{*}$ denotes the social optimum flow distribution), then selfish users should pay not only for their delay, but also for the cost that make other users pay due to their choice.\n",
    "\n",
    "Thus, users minimize the cost that all the system pays for their choice, which leads to social optimum flows."
   ]
  },
  {
   "cell_type": "markdown",
   "metadata": {},
   "source": [
    "3. **Compute Wardrop equilibrium with tolls.** Computing the Wardrop equilibrium as in 2., but with the link delays $d_e(f_e)$ replaced by $d^{(\\omega_e)}_e(f_e) = d_e(f_e) + \\omega_e$, a CVXPY solution can be obtained by the following code:"
   ]
  },
  {
   "cell_type": "code",
   "execution_count": null,
   "metadata": {},
   "outputs": [],
   "source": [
    "B = np.array([[1, 1],[-1,-1]])\n",
    "n_edges = B.shape[1]\n",
    "\n",
    "# exogenous flow vector: one unit of flow enters the origin and \n",
    "# exits the destination node\n",
    "nu = np.array([1, -1])\n",
    "\n",
    "# find marginal tolls: for each edge the toll equals f*_e d_e'(f_e*)\n",
    "# for affine delays l_e + b_e f_e, this reads b_e f*_e\n",
    "# in this example b = [1,0]\n",
    "omega = opt_flow * np.array([1,0])\n",
    "\n",
    "# the objective function is the same as before, except for the tolls\n",
    "l = l + omega\n",
    "\n",
    "# Construct the problem.\n",
    "f = cp.Variable(n_edges)\n",
    "objective = cp.Minimize(cp.quad_form(f, Q) + l.T @ f)\n",
    "constraints = [B @ f == nu, f >=0]\n",
    "prob = cp.Problem(objective, constraints)\n",
    "\n",
    "# The optimal objective value is returned by `prob.solve()`.\n",
    "result = prob.solve()\n",
    "# The optimal value for f is stored in `f.value`.\n",
    "print(\"Wardrop equilibrium with tolls:\", f.value)"
   ]
  },
  {
   "cell_type": "markdown",
   "metadata": {},
   "source": [
    "The resulting flow vector is $f^{(\\omega)} = (1/2, 1/2)'$, which is also the social optimum flow, as expected."
   ]
  },
  {
   "cell_type": "markdown",
   "metadata": {},
   "source": [
    "## Braess' paradox\n",
    "\n",
    "Braess' paradox occurs when improving the network, e.g., adding a link, leads to a higher social cost under Wardrop equilibrium, or equivalently, removing a link reduces the social cost under Wardrop equilibrium .\n",
    "\n",
    "Let us see an example."
   ]
  },
  {
   "cell_type": "code",
   "execution_count": null,
   "metadata": {},
   "outputs": [],
   "source": [
    "G = nx.DiGraph()\n",
    "\n",
    "G.add_nodes_from([0,1,2,3])\n",
    "\n",
    "G.add_edges_from([(0,1),(0,2),(1,2),(1,3),(2,3)])\n",
    "\n",
    "pos = {0:[0,0], 1:[2,1], 2:[2,-1], 3:[4,0]}\n",
    "\n",
    "labels = ['2x','x+1','x','x+1','2x']\n",
    "\n",
    "zip_operator = zip(G.edges(), labels)\n",
    "labels = dict(zip_operator)\n",
    "\n",
    "nx.draw_networkx_edge_labels(G,pos,edge_labels = labels)\n",
    "\n",
    "nx.draw(G, pos, with_labels=True)"
   ]
  },
  {
   "cell_type": "markdown",
   "metadata": {},
   "source": [
    "Edge labels represent delay functions\n",
    "\n",
    "**Social optimum flows**"
   ]
  },
  {
   "cell_type": "code",
   "execution_count": null,
   "metadata": {},
   "outputs": [],
   "source": [
    "B = -nx.linalg.graphmatrix.incidence_matrix(G, oriented=True).toarray()\n",
    "n_edges = len(G.edges)\n",
    "# exogenous flow vector: one unit of flow enters the origin and \n",
    "# exits the destination node\n",
    "# the solution of the shortest path problem is actually independent on the throughput value because of the linearity\n",
    "tau = 1\n",
    "nu = np.array([1, 0, 0, -1]) * tau\n",
    "# l stores the coefficients of the linear terms of the objective function, in this case the length of the links.\n",
    "# In this case, the objective function is\n",
    "\n",
    "Q = np.diag([2,1,1,1,2]) # diagonal matrix\n",
    "l = np.array([0,1,0,1,0]) # 1d array\n",
    "\n",
    "# Construct the problem.\n",
    "f = cp.Variable(n_edges)\n",
    "objective = cp.Minimize(cp.quad_form(f,Q) + l.T @ f)\n",
    "constraints = [B @ f == nu, f >=0]\n",
    "prob = cp.Problem(objective, constraints)\n",
    "\n",
    "# The optimal objective value is returned by `prob.solve()`.\n",
    "cost_opt = prob.solve()\n",
    "# The optimal value for f is stored in `f.value`.\n",
    "print(\"Optimal flows:\", f.value)\n",
    "print(\"Optimal cost:\", cost_opt)"
   ]
  },
  {
   "cell_type": "markdown",
   "metadata": {},
   "source": [
    "**Wardrop equilibrium**\n"
   ]
  },
  {
   "cell_type": "code",
   "execution_count": null,
   "metadata": {},
   "outputs": [],
   "source": [
    "B = -nx.linalg.graphmatrix.incidence_matrix(G, oriented=True).toarray()\n",
    "n_edges = len(G.edges)\n",
    "# exogenous flow vector: one unit of flow enters the origin and \n",
    "# exits the destination node\n",
    "tau = 1\n",
    "nu = np.array([1, 0, 0, -1]) * tau\n",
    "# l stores the coefficients of the linear terms of the objective function, in this case the length of the links.\n",
    "# In this case, the objective function is\n",
    "\n",
    "Q = np.diag([1,1/2,1/2,1/2,1]) # diagonal matrix\n",
    "l = np.array([0,1,0,1,0]) # 1d array\n",
    "\n",
    "# Construct the problem.\n",
    "f = cp.Variable(n_edges)\n",
    "objective = cp.Minimize(cp.quad_form(f,Q) + l.T @ f)\n",
    "constraints = [B @ f == nu, f >=0]\n",
    "prob = cp.Problem(objective, constraints)\n",
    "\n",
    "# The optimal objective value is returned by `prob.solve()`.\n",
    "result = prob.solve()\n",
    "# The optimal value for f is stored in `f.value`.\n",
    "print(\"Wardrop flows:\", f.value)"
   ]
  },
  {
   "cell_type": "code",
   "execution_count": null,
   "metadata": {},
   "outputs": [],
   "source": [
    "# cost, defined as \\sum_e f_e d_e(f_e)\n",
    "def cost(f):\n",
    "    return 2*f[0]*f[0]+f[1]*(f[1]+1)+f[2]*f[2]+f[3]*(f[3]+1)+2*f[4]*f[4]\n",
    "\n",
    "cost_w = cost(f.value) \n",
    "\n",
    "print(\"Wardrop cost:\", cost_w)\n",
    "\n",
    "PoA = cost_w/cost_opt\n",
    "\n",
    "print(\"The price of anarchy:\", PoA)"
   ]
  },
  {
   "cell_type": "markdown",
   "metadata": {},
   "source": [
    "Note that under optimal flows the link $e_3$ is not used, while under Wardrop equilibrium $e_3$ is used, and PoA>1.\n",
    "\n",
    "This suggests that the inefficiency (since PoA>1) may be eliminated by removing the link $e_3$\n",
    "\n",
    "Let's try!\n",
    "\n",
    "The optimal flows are not affected by the removal $e_3$ (why?). Let's compute the Wardrop equilibrium of the new network. "
   ]
  },
  {
   "cell_type": "code",
   "execution_count": null,
   "metadata": {},
   "outputs": [],
   "source": [
    "# G without $e_3$\n",
    "\n",
    "G = nx.DiGraph()\n",
    "\n",
    "G.add_nodes_from([0,1,2,3])\n",
    "\n",
    "G.add_edges_from([(0,1),(0,2),(1,3),(2,3)])\n",
    "\n",
    "pos = {0:[0,0], 1:[2,1], 2:[2,-1], 3:[4,0]}\n",
    "\n",
    "labels = ['2x','x+1','x+1','2x']\n",
    "\n",
    "zip_operator = zip(G.edges(), labels)\n",
    "labels = dict(zip_operator)\n",
    "\n",
    "nx.draw_networkx_edge_labels(G,pos,edge_labels = labels)\n",
    "\n",
    "nx.draw(G, pos, with_labels=True)"
   ]
  },
  {
   "cell_type": "code",
   "execution_count": null,
   "metadata": {},
   "outputs": [],
   "source": [
    "B = -nx.linalg.graphmatrix.incidence_matrix(G, oriented=True).toarray()\n",
    "n_edges = len(G.edges)\n",
    "\n",
    "# exogenous flow vector: one unit of flow enters the origin and \n",
    "# exits the destination node\n",
    "tau = 1\n",
    "nu = np.array([1, 0, 0, -1]) * tau\n",
    "# l stores the coefficients of the linear terms of the objective function, in this case the length of the links.\n",
    "# In this case, the objective function is\n",
    "\n",
    "Q = np.diag([1,1/2,1/2,1]) # diagonal matrix\n",
    "l = np.array([0,1,1,0]) # 1d array\n",
    "\n",
    "# Construct the problem.\n",
    "f = cp.Variable(n_edges)\n",
    "objective = cp.Minimize(cp.quad_form(f,Q) + l.T @ f)\n",
    "constraints = [B @ f == nu, f >=0]\n",
    "prob = cp.Problem(objective, constraints)\n",
    "\n",
    "# The optimal objective value is returned by `prob.solve()`.\n",
    "result = prob.solve()\n",
    "# The optimal value for f is stored in `f.value`.\n",
    "print(\"Wardrop flows:\", f.value)"
   ]
  },
  {
   "cell_type": "code",
   "execution_count": null,
   "metadata": {},
   "outputs": [],
   "source": [
    "# cost, defined as \\sum_e f_e d_e(f_e)\n",
    "def cost(f):\n",
    "    return 2*f[0]*f[0]+f[1]*(f[1]+1)+f[2]*(f[2]+1)+2*f[3]*f[3]\n",
    "\n",
    "cost_w = cost(f.value) \n",
    "\n",
    "print(\"Wardrop cost:\", cost_w)\n",
    "\n",
    "PoA = cost_w/cost_opt\n",
    "\n",
    "print(\"The price of anarchy:\", PoA)"
   ]
  },
  {
   "cell_type": "markdown",
   "metadata": {},
   "source": [
    "The Wardrop cost decreases, so Braess' paradox occurs.\n",
    "\n",
    "This is an example of network design problem in which links are removed instead of added or improved, exploiting Braess' paradox. Braess' paradox has been observed also in reality, not only in theoretical examples.\n",
    "\n",
    "The price of anarchy could be minimized also by adding marginal tolls, or by other toll patterns, e.g., by adding a large toll on link $e_3$ in such a way to prevent users to travel along that link."
   ]
  },
  {
   "cell_type": "markdown",
   "metadata": {},
   "source": [
    "### A sufficient conditions for PoA=1\n",
    "\n",
    "**Observation**: assume that delay functions are linear, i.e., $d_e(f_e) = a_e f_e$. Then, \n",
    "\n",
    "$$\n",
    "f_e d_e(f_e) = a_e f_e^2 = 2 \\int_{0}^{f_e} d_e(s) ds,\n",
    "$$\n",
    "\n",
    "which implies that if the delay functions are linear, then user equilibria coincide with social optimum flows."
   ]
  },
  {
   "cell_type": "markdown",
   "metadata": {},
   "source": [
    "### Resistor networks\n",
    "Network flow optimization can be adapted to many applications, for instance electrical flows in resistor networks.\n",
    "\n",
    "In particular, social optimum traffic flows coincide with electrical current in a resistor network if:\n",
    "- the delay functions are linear, i.e., $d_e(f_e) = a_e f_e$;\n",
    "- the non-negativity constraint $f_e \\ge 0$ is relaxed.\n",
    "\n",
    "The coefficients $a_e$ have to be interpreted as the resistance of the link $e$, and the throughput $\\tau$ as the electrical current injected in the network. It can also be proven that the Lagrangian multipliers associated to the mass conservation in the node set corresponds to electrical potential on the nodes of the resistor network. "
   ]
  },
  {
   "cell_type": "markdown",
   "metadata": {},
   "source": [
    "## Ford–Fulkerson Algorithm \n",
    "**Inputs**: a graph $G=(V,E)$, a vector of flow capacities $c = (c(u,v))_{(u,v) \\in E}$, a source node $s$, and a sink node $t$\n",
    "\n",
    "**Output**: a flow $f = (f(u,v))_{(u,v) \\in E}$ from $s$ to $t$ of maximum throughput\n",
    "\n",
    "1. $f(u,v)\\leftarrow 0$ for all edges $(u,v)$\n",
    "2. While there is a path $p$ from $s$ to $t$ in $G_{f}$, such that $c_{f}(u,v)=c(u,v)-f(u,v)>0$ for all edges $(u,v)\\in p$:\n",
    " 1. Find $c_{f}(p)=\\min\\{c_{f}(u,v):(u,v)\\in p\\}$\n",
    " 2. For each edge $(u,v)\\in p:$\n",
    "      1. $f(u,v)\\leftarrow f(u,v)+c_{f}(p)$ (Increase the flow along the path)\n",
    "      2. $f(v,u)\\leftarrow f(v,u)-c_{f}(p)$ (Impose the symmetry of the flow)\n",
    "\n",
    "Ford-Fulkerson Algorithm is called a \"method\", instead of \"algorithm\", because it does not specify univocally how to select paths."
   ]
  },
  {
   "cell_type": "markdown",
   "metadata": {},
   "source": [
    "### Edmonds-Karp Algorithm\n",
    "The Edmonds–Karp algorithm is an implementation of Ford–Fulkerson method, where the search order to find augmenting paths is defined. A shortest path that has available capacity is found by a breadth-first search."
   ]
  },
  {
   "cell_type": "code",
   "execution_count": null,
   "metadata": {},
   "outputs": [],
   "source": [
    "import collections\n",
    "\n",
    "# This class represents a directed graph using adjacency matrix representation\n",
    "class Graph:\n",
    "    # __init__ is a reseved method in python classes.\n",
    "    # In object oriented terminology, it is the constructor of the class.\n",
    "    # We define a new class 'graph' instead of using the NetworkX package.\n",
    "    def __init__(self, graph): \n",
    "        # the Graph object represents the flow network and the graph\n",
    "        # attribute will be updated by the Edmonds-Karp Algorithm to \n",
    "        # represent the residual graph.\n",
    "        # Entry [u][v] of graph array stores the capacity of link (u,v).\n",
    "        self.graph = graph  \n",
    "        # Number of nodes:\n",
    "        self.ROW = len(graph)\n",
    "\n",
    "    def bfs(self, s, t, parent):\n",
    "        \"\"\"Returns true if there is a path from source 's' to sink 't' in the\n",
    "        residual graph. Also fills parent[] to store the path \"\"\"\n",
    "        # Mark all the vertices as not visited\n",
    "        visited = [False] * (self.ROW)\n",
    "\n",
    "        # Create a double-ended queue for BFS\n",
    "        queue = collections.deque()\n",
    "\n",
    "        # Mark the source node as visited and enqueue it\n",
    "        # When visited, nodes are appended \"to the right end\" of the queue.\n",
    "        queue.append(s)\n",
    "        visited[s] = True\n",
    "\n",
    "        # Standard BFS loop\n",
    "        while queue: # while there are still elements in the queue\n",
    "            # Nodes are extracted from \"the left end\" of the queue\n",
    "            u = queue.popleft()\n",
    "\n",
    "            # Get all adjacent vertices of the dequeued vertex u\n",
    "            # If an adjacent vertex has not been visited, then mark \n",
    "            # it as visited and enqueue it.\n",
    "            \n",
    "            # Enumerate() method adds a counter to an iterable\n",
    "            # to keep a count of iterations. We cycle over row\n",
    "            # u of graph array: ind is the index of the node,\n",
    "            # val is >0 if node ind is adjacent to u, i.e. if \n",
    "            # there is residual capacity on the link (u,ind),\n",
    "            # it is 0 otherwise.\n",
    "            for ind, val in enumerate(self.graph[u]): \n",
    "                if (visited[ind] == False) and (val > 0):\n",
    "                    queue.append(ind)\n",
    "                    visited[ind] = True\n",
    "                    parent[ind] = u\n",
    "\n",
    "        # If sink is reached by BFS starting from source, then return\n",
    "        # true, else return false\n",
    "        return visited[t]\n",
    "\n",
    "    # Returns the maximum flow from s to t in the given graph\n",
    "    def edmonds_karp(self, source, sink):\n",
    "        # parent array is filled by bfs() and it is used \n",
    "        # to compute augmenting paths.\n",
    "        # It is initialized with the sentinel value -1\n",
    "        parent = [-1] * (self.ROW)\n",
    "\n",
    "        # Both max flow value and max flow vector are \n",
    "        # initialized to 0\n",
    "        max_flow = 0  \n",
    "        # initialize matrix of zeros with size ROW x ROW\n",
    "        flow = np.array([[0] * (self.ROW)] * (self.ROW))\n",
    "\n",
    "        # Augment the flow while there is a path from source to sink\n",
    "        # in the residual graph\n",
    "        while self.bfs(source, sink, parent): # the algorithm stops when there are augmenting paths from s to t\n",
    "            # now parent stores the augmenting path found by bfs\n",
    "\n",
    "            # Find the minimum residual capacity of the edges along the\n",
    "            # origin-destination path found by BFS.\n",
    "            res_capacity = float(\"Inf\")\n",
    "            # start from the endpoint of the path\n",
    "            n = sink\n",
    "            # travel the path backwards until you reach the source\n",
    "            # and update the minimal residual capacity of links\n",
    "            while n != source:\n",
    "                res_capacity = min(res_capacity, self.graph[parent[n]][n])\n",
    "                n = parent[n] \n",
    "\n",
    "            # Add the residual capacity to the maximal throughput\n",
    "            max_flow += res_capacity\n",
    "\n",
    "            # Update the flow vector by adding the residual capacity\n",
    "            # of the augmenting path to each edge in the path (to preserve\n",
    "            # symmetry, subtract it to each reverse edge).\n",
    "            # Compute the new residual network by updating\n",
    "            # the residual capacities of the edges and reverse edges\n",
    "            # along the augmenting path.\n",
    "            v = sink\n",
    "            while v != source:\n",
    "                u = parent[v]\n",
    "                flow[u][v] += res_capacity\n",
    "                flow[v][u] -= res_capacity\n",
    "                self.graph[u][v] -= res_capacity\n",
    "                self.graph[v][u] += res_capacity\n",
    "                v = parent[v]  \n",
    "            \n",
    "        return max_flow, flow"
   ]
  },
  {
   "cell_type": "code",
   "execution_count": null,
   "metadata": {},
   "outputs": [],
   "source": [
    "W = np.array([[0,1000,1000,0],[0,0,1,1000],[0,0,0,1000],[0,0,0,0]])\n",
    "G = Graph(W)\n",
    "\n",
    "max_flow, flow = Graph.edmonds_karp(G,0,3)\n",
    "\n",
    "print(\"The maximum flow:\", max_flow, \"\\n\")\n",
    "print(\"The flow distribution: \\n\", flow)"
   ]
  },
  {
   "cell_type": "markdown",
   "metadata": {},
   "source": [
    "Let us explore the steps of the algorithm by adding some print in the code."
   ]
  },
  {
   "cell_type": "code",
   "execution_count": null,
   "metadata": {},
   "outputs": [],
   "source": [
    "class Graph_print:\n",
    "    # __init__ is a reseved method in python classes.\n",
    "    # In object oriented terminology, it is the constructor of the class.\n",
    "    # We define a new class 'graph' instead of using the NetworkX package.\n",
    "    def __init__(self, graph): \n",
    "        # the Graph object represents the flow network and the graph\n",
    "        # attribute will be updated by the Edmonds-Karp Algorithm to \n",
    "        # represent the residual graph.\n",
    "        # Entry [u][v] of graph array stores the capacity of link (u,v).\n",
    "        self.graph = graph  \n",
    "        # Number of nodes:\n",
    "        self.ROW = len(graph)\n",
    "\n",
    "    def bfs(self, s, t, parent):\n",
    "        \"\"\"Returns true if there is a path from source 's' to sink 't' in the\n",
    "        residual graph. Also fills parent[] to store the path \"\"\"\n",
    "        # Mark all the vertices as not visited\n",
    "        visited = [False] * (self.ROW)\n",
    "\n",
    "        # Create a double-ended queue for BFS\n",
    "        queue = collections.deque()\n",
    "\n",
    "        # Mark the source node as visited and enqueue it\n",
    "        # When visited, nodes are appended \"to the right end\" of the queue.\n",
    "        queue.append(s)\n",
    "        visited[s] = True\n",
    "\n",
    "        # Standard BFS loop\n",
    "        while queue: # while there are still elements in the queue\n",
    "            # Nodes are extracted from \"the left end\" of the queue\n",
    "            print(\"Queue:\", queue, \"\\n\")\n",
    "            u = queue.popleft()\n",
    "            print(\"Extracted node:\", u, \"\\n\")\n",
    "\n",
    "            # Get all adjacent vertices of the dequeued vertex u\n",
    "            # If an adjacent vertex has not been visited, then mark \n",
    "            # it as visited and enqueue it.\n",
    "            \n",
    "            # Enumerate() method adds a counter to an iterable\n",
    "            # to keep a count of iterations. We cycle over row\n",
    "            # u of graph array: ind is the index of the node,\n",
    "            # val is >0 if node ind is adjacent to u, i.e. if \n",
    "            # there is residual capacity on the link (u,ind),\n",
    "            # it is 0 otherwise.\n",
    "            for ind, val in enumerate(self.graph[u]): \n",
    "                if (visited[ind] == False) and (val > 0):\n",
    "                    queue.append(ind)\n",
    "                    visited[ind] = True\n",
    "                    parent[ind] = u\n",
    "            \n",
    "            print(\"Parents\", parent, \"\\n\")\n",
    "            print(\"Visited\", visited, \"\\n \\n \\n\")\n",
    "\n",
    "        # If sink is reached by BFS starting from source, then return\n",
    "        # true, else return false\n",
    "        return visited[t]\n",
    "\n",
    "    # Returns the maximum flow from s to t in the given graph\n",
    "    def edmonds_karp(self, source, sink):\n",
    "        n_iter = 1\n",
    "        print(\"iteration of bfs number:\", n_iter, \"\\n\")\n",
    "        # parent array is filled by bfs() and it is used \n",
    "        # to compute augmenting paths.\n",
    "        # It is initialized with the sentinel value -1\n",
    "        # If parent[j] == -1, node 'j' has not been visited yet\n",
    "        parent = [-1] * (self.ROW)\n",
    "\n",
    "        # Both max flow value and max flow vector are \n",
    "        # initialized to 0\n",
    "        max_flow = 0  \n",
    "        # initialize matrix of zeros with size ROW x ROW\n",
    "        flow = np.array([[0] * (self.ROW)] * (self.ROW))\n",
    "\n",
    "        # Augment the flow while there is a path from source to sink\n",
    "        # in the residual graph\n",
    "        while self.bfs(source, sink, parent): # the algorithm stops when there are augmenting paths from s to t\n",
    "            # now parent stores the augmenting path found by bfs\n",
    "\n",
    "            # Find the minimum residual capacity of the edges along the\n",
    "            # origin-destination path found by BFS.\n",
    "            res_capacity = float(\"Inf\")\n",
    "            # start from the endpoint of the path\n",
    "            n = sink\n",
    "            # travel the path backwards until you reach the source\n",
    "            # and update the minimal residual capacity of links\n",
    "            while n != source:\n",
    "                res_capacity = min(res_capacity, self.graph[parent[n]][n])\n",
    "                n = parent[n] \n",
    "\n",
    "            # Add the residual capacity to the maximal throughput\n",
    "            max_flow += res_capacity\n",
    "\n",
    "            # Update the flow vector by adding the residual capacity\n",
    "            # of the augmenting path to each edge in the path (to preserve\n",
    "            # symmetry, subtract it to each reverse edge).\n",
    "            # Compute the new residual network by updating\n",
    "            # the residual capacities of the edges and reverse edges\n",
    "            # along the augmenting path.\n",
    "            v = sink\n",
    "            while v != source:\n",
    "                u = parent[v]\n",
    "                flow[u][v] += res_capacity\n",
    "                flow[v][u] -= res_capacity\n",
    "                self.graph[u][v] -= res_capacity\n",
    "                self.graph[v][u] += res_capacity\n",
    "                v = parent[v]  \n",
    "            n_iter += 1\n",
    "            print(\"iteration of bfs number:\", n_iter, \"\\n\")\n",
    "            \n",
    "        return max_flow, flow"
   ]
  },
  {
   "cell_type": "code",
   "execution_count": null,
   "metadata": {},
   "outputs": [],
   "source": [
    "W = np.array([[0,1000,1000,0],[0,0,1,1000],[0,0,0,1000],[0,0,0,0]])\n",
    "G = Graph_print(W)\n",
    "\n",
    "max_flow, flow = Graph_print.edmonds_karp(G,0,3)"
   ]
  },
  {
   "cell_type": "markdown",
   "metadata": {},
   "source": [
    "Networkx implements the Edmonds-Karp algorithm. \n",
    "\n",
    "The `networkx.algorithms.flow.edmonds_karp` function returns the residual network resulting after computing the maximum flow.\n",
    "\n",
    "Networkx also provides the functions `networkx.algorithms.flow.maximum_flow` and `networkx.algorithms.flow.minimum_cut` which compute the maximun throughput and  the value and the node partition of a minimum cut, respectively."
   ]
  }
 ],
 "metadata": {
  "kernelspec": {
   "display_name": "Python 3",
   "language": "python",
   "name": "python3"
  },
  "language_info": {
   "codemirror_mode": {
    "name": "ipython",
    "version": 3
   },
   "file_extension": ".py",
   "mimetype": "text/x-python",
   "name": "python",
   "nbconvert_exporter": "python",
   "pygments_lexer": "ipython3",
   "version": "3.7.6"
  }
 },
 "nbformat": 4,
 "nbformat_minor": 4
}
