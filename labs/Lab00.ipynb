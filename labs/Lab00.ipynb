{
 "cells": [
  {
   "cell_type": "markdown",
   "metadata": {},
   "source": [
    "### Contacts: leonardo.cianfanelli@polito.it"
   ]
  },
  {
   "cell_type": "markdown",
   "metadata": {},
   "source": [
    "# Setting Up Your Environment"
   ]
  },
  {
   "cell_type": "markdown",
   "metadata": {},
   "source": [
    "The first part of this notebook contains some guidelines to prepare programming environments for the upcoming labs of the \"Network Dynamics and Learning\" course. \n",
    "During our labs we will mostly work in Jupyter Notebook. \n",
    "\n",
    "(We are using Python 3)"
   ]
  },
  {
   "cell_type": "markdown",
   "metadata": {},
   "source": [
    "### Step 1: Install Jupyter Notebook"
   ]
  },
  {
   "cell_type": "markdown",
   "metadata": {},
   "source": [
    "I suggest you to install free [Anaconda](https://docs.anaconda.com/anaconda/install/) Python distribution which already includes all necessary Python packages and modules - NumPy, SciPy, Matplotlib and **NetworkX**. Simply download appropriate installer for your OS and follow the proposed steps."
   ]
  },
  {
   "cell_type": "markdown",
   "metadata": {},
   "source": [
    "<!-- -*- coding: utf-8 -*- -->\n",
    "# Introduction to NetworkX\n",
    "*Credits: This tutorial was created by the NetworkX Developers and modified by Leonardo Cianfanelli.*\n",
    "\n",
    "This guide can help you start working with NetworkX."
   ]
  },
  {
   "cell_type": "markdown",
   "metadata": {},
   "source": [
    "## Graph Types\n",
    "\n",
    "NetworkX provides data structures and methods for storing graphs. The choice of graph class depends on the structure of the graph you want to represent.\n"
   ]
  },
  {
   "cell_type": "markdown",
   "metadata": {},
   "source": [
    "### Graph—Undirected graphs\n",
    "Base class for undirected graphs.\n",
    "A Graph stores nodes and edges with optional data, or attributes.\n",
    "Graphs hold undirected edges. Self loops are allowed but multiple (parallel) edges are not.\n",
    "Edges are represented as links between nodes with optional key/value attributes."
   ]
  },
  {
   "cell_type": "markdown",
   "metadata": {},
   "source": [
    "#### Creating a Graph\n",
    "\n",
    "Create an empty graph with no nodes and no edges."
   ]
  },
  {
   "cell_type": "code",
   "execution_count": null,
   "metadata": {},
   "outputs": [],
   "source": [
    "import networkx as nx\n",
    "G = nx.Graph()"
   ]
  },
  {
   "cell_type": "markdown",
   "metadata": {},
   "source": [
    "By definition, a `Graph` is a collection of nodes (vertices) along with\n",
    "identified pairs of nodes (called edges, links, etc).  In NetworkX, nodes can\n",
    "be objects with many different types, e.g., a number, a text string, an image, another\n",
    "Graph, etc.\n",
    "\n",
    "## Nodes\n",
    "\n",
    "The graph `G` can be grown in several ways. You can add one node at a time,"
   ]
  },
  {
   "cell_type": "code",
   "execution_count": null,
   "metadata": {},
   "outputs": [],
   "source": [
    "G.add_node(1)\n",
    "print(G.nodes)"
   ]
  },
  {
   "cell_type": "markdown",
   "metadata": {},
   "source": [
    "or you can add the nodes from any container (a list, dictionary, set or the nodes from another graph)."
   ]
  },
  {
   "cell_type": "code",
   "execution_count": null,
   "metadata": {},
   "outputs": [],
   "source": [
    "n_list = [11,12]\n",
    "n_set = set((21,22))\n",
    "\n",
    "G.add_nodes_from(n_list)\n",
    "G.add_nodes_from(n_set)\n",
    "G.add_nodes_from(range(100, 110))\n",
    "\n",
    "print(G.nodes)"
   ]
  },
  {
   "cell_type": "code",
   "execution_count": null,
   "metadata": {},
   "outputs": [],
   "source": [
    "H = nx.path_graph(10)\n",
    "print(\"Nodes of H:\", H.nodes)\n",
    "\n",
    "G.add_nodes_from(H)\n",
    "print(\"Nodes of G:\", G.nodes)"
   ]
  },
  {
   "cell_type": "markdown",
   "metadata": {},
   "source": [
    "# What to use as nodes and edges\n",
    "Nodes can be even other graphs."
   ]
  },
  {
   "cell_type": "code",
   "execution_count": null,
   "metadata": {},
   "outputs": [],
   "source": [
    "G.add_node(H)\n",
    "print(G.nodes)"
   ]
  },
  {
   "cell_type": "markdown",
   "metadata": {},
   "source": [
    "The graph `G` now contains `H` as a node. This flexibility is very powerful as\n",
    "it allows graphs of graphs, graphs of files, and much more.\n",
    "\n",
    "This power quite useful, but its abuse can lead to surprising behavior unless one is familiar with Python. If in doubt, consider using convert_node_labels_to_integers() to obtain a more traditional graph with integer labels."
   ]
  },
  {
   "cell_type": "code",
   "execution_count": null,
   "metadata": {},
   "outputs": [],
   "source": [
    "G2=nx.convert_node_labels_to_integers(G)\n",
    "\n",
    "print(G2.nodes)"
   ]
  },
  {
   "cell_type": "markdown",
   "metadata": {},
   "source": [
    "## Edges\n",
    "\n",
    "`G` can also be grown by adding one edge at a time,"
   ]
  },
  {
   "cell_type": "code",
   "execution_count": null,
   "metadata": {},
   "outputs": [],
   "source": [
    "G.add_edge(1, 2)\n",
    "print(G.edges)"
   ]
  },
  {
   "cell_type": "markdown",
   "metadata": {},
   "source": [
    "by adding a list of edges,"
   ]
  },
  {
   "cell_type": "code",
   "execution_count": null,
   "metadata": {},
   "outputs": [],
   "source": [
    "G.add_edges_from([(1, 2), (1, 3)])\n",
    "print(G.edges)"
   ]
  },
  {
   "cell_type": "markdown",
   "metadata": {},
   "source": [
    "or by adding all the edges of another graph. Edges of H are is obtained with `H.edges`:"
   ]
  },
  {
   "cell_type": "code",
   "execution_count": null,
   "metadata": {},
   "outputs": [],
   "source": [
    "G.add_edges_from(H.edges)\n",
    "print(G.edges)"
   ]
  },
  {
   "cell_type": "markdown",
   "metadata": {},
   "source": [
    "An edge-tuple can be a 2-tuple of nodes or a 3-tuple\n",
    "with 2 nodes followed by an edge attribute dictionary, e.g.,\n",
    "`(2, 3, {'weight': 3.1415})`."
   ]
  },
  {
   "cell_type": "code",
   "execution_count": null,
   "metadata": {},
   "outputs": [],
   "source": [
    "edges_weighted = [(1 ,5, {'attribute': 2}), (1, 6)];\n",
    "G.add_edges_from(edges_weighted)\n",
    "print(G.edges)"
   ]
  },
  {
   "cell_type": "markdown",
   "metadata": {},
   "source": [
    "**Remark**: If some edges connect nodes not yet in the graph, the nodes are added automatically. There are no errors when adding nodes or edges that already exist.\n"
   ]
  },
  {
   "cell_type": "markdown",
   "metadata": {},
   "source": [
    "For example, after removing all nodes and edges, we add an edge without adding nodes, but the nodes are still in the graph."
   ]
  },
  {
   "cell_type": "code",
   "execution_count": null,
   "metadata": {},
   "outputs": [],
   "source": [
    "G.clear()\n",
    "G.add_edges_from([(1, 2), (1, 3)])\n",
    "print(G.nodes)"
   ]
  },
  {
   "cell_type": "markdown",
   "metadata": {},
   "source": [
    "We now add new nodes/edges and NetworkX quietly ignores any that are already present."
   ]
  },
  {
   "cell_type": "code",
   "execution_count": null,
   "metadata": {},
   "outputs": [],
   "source": [
    "G.add_node(1)\n",
    "G.add_edge(1, 2)"
   ]
  },
  {
   "cell_type": "markdown",
   "metadata": {},
   "source": [
    "At this stage the graph `G` consists of 3 nodes and 2 edges, as can be seen by:"
   ]
  },
  {
   "cell_type": "code",
   "execution_count": null,
   "metadata": {},
   "outputs": [],
   "source": [
    "print(\"Number of nodes:\", G.number_of_nodes())\n",
    "print(\"Number of edges:\", G.number_of_edges())"
   ]
  },
  {
   "cell_type": "markdown",
   "metadata": {},
   "source": [
    "# Examining elements of a graph\n",
    "\n",
    "\n",
    "We can examine the nodes and edges. Four basic graph properties facilitate\n",
    "reporting: `G.nodes`, `G.edges`, `G.adj` and `G.degree`.  These\n",
    "are views of the nodes, edges, neighbors (adjacencies), and degrees\n",
    "of nodes in a graph. They offer a continually updated read-only view into\n",
    "the graph structure.\n",
    "\n",
    "They are also dict-like in that you can look up node\n",
    "and edge data attributes via the views and iterate with data attributes\n",
    "using methods `.items()`, `.data('attribute')`.\n",
    "\n",
    "\n",
    "If you want a specific container type instead of a view, you can specify one.\n",
    "Here we use lists, though sets, dicts, tuples and other containers may be\n",
    "better in other contexts."
   ]
  },
  {
   "cell_type": "code",
   "execution_count": null,
   "metadata": {
    "scrolled": true
   },
   "outputs": [],
   "source": [
    "print(\"List of nodes:\", list(G.nodes))\n",
    "print(\"Tuple of nodes:\", tuple(G.nodes))\n",
    "\n",
    "print(\"List of edges:\", list(G.edges))\n",
    "print(\"List of neighbors of node 1:\", list(G.adj[1])) # or list(G.neighbors(1))\n",
    "print(\"Degree of node 1:\", G.degree[1])  # the number of edges incident to 1"
   ]
  },
  {
   "cell_type": "markdown",
   "metadata": {},
   "source": [
    "# Removing elements from a graph\n",
    "\n",
    "One can remove nodes and edges from the graph in a similar fashion to adding.\n",
    "Use methods\n",
    "`Graph.remove_node()`,\n",
    "`Graph.remove_nodes_from()`,\n",
    "`Graph.remove_edge()`\n",
    "and\n",
    "`Graph.remove_edges_from()`, e.g."
   ]
  },
  {
   "cell_type": "code",
   "execution_count": null,
   "metadata": {},
   "outputs": [],
   "source": [
    "G.remove_node(2)\n",
    "print(\"Nodes of G:\", G.nodes)"
   ]
  },
  {
   "cell_type": "markdown",
   "metadata": {},
   "source": [
    "If you remove elements that are not in the graph from a container, NetworkX does not give an error."
   ]
  },
  {
   "cell_type": "code",
   "execution_count": null,
   "metadata": {},
   "outputs": [],
   "source": [
    "G.remove_nodes_from([4,5])"
   ]
  },
  {
   "cell_type": "markdown",
   "metadata": {},
   "source": [
    "If you instead remove single elements that are not in the graph, NetworkX does give an error."
   ]
  },
  {
   "cell_type": "markdown",
   "metadata": {},
   "source": [
    "\n",
    "# Accessing edges and neighbors\n"
   ]
  },
  {
   "cell_type": "markdown",
   "metadata": {},
   "source": [
    "You can get/set attributes of an edge using subscript notation\n",
    "if the edge already exists."
   ]
  },
  {
   "cell_type": "code",
   "execution_count": null,
   "metadata": {},
   "outputs": [],
   "source": [
    "G = nx.Graph()\n",
    "G.add_edges_from([(1,3),(1,2)])\n",
    "G[1][3]['color'] = \"blue\"\n",
    "G.edges[(1, 2)]['color'] = \"red\"\n",
    "print(\"Edges with attributes:\", dict(G.edges))"
   ]
  },
  {
   "cell_type": "markdown",
   "metadata": {},
   "source": [
    "You can add weighted edges. The method `add_weighted_edges_from` creates edges with attribute `weight`.\n",
    "\n",
    "Fast examination of all (node, adjacency) pairs is achieved using\n",
    "`G.adjacency()`, or `G.adj.items()`.\n",
    "Note that for undirected graphs, adjacency iteration sees each edge twice."
   ]
  },
  {
   "cell_type": "code",
   "execution_count": null,
   "metadata": {},
   "outputs": [],
   "source": [
    "FG = nx.Graph()\n",
    "FG.add_weighted_edges_from([(1, 2, 0.125), (1, 3, 0.75), (2, 4, 1.2), (3, 4, 0.375)])\n",
    "\n",
    "FG.adj.items()"
   ]
  },
  {
   "cell_type": "markdown",
   "metadata": {},
   "source": [
    "Here is a simple code that prints the edges (repeated twice, because the graph is undirected) with weight less than 0.5 by using `G.adj.items()`."
   ]
  },
  {
   "cell_type": "code",
   "execution_count": null,
   "metadata": {},
   "outputs": [],
   "source": [
    "# n is the key of the dictionary\n",
    "# nbrs is the value, namely, the dictionary that contains the neighbors of n as key and the weights as values\n",
    "for n, nbrs in FG.adj.items():\n",
    "    for nbr, eattr in nbrs.items():\n",
    "        wt = eattr['weight']\n",
    "        if wt < 0.5: print('(%d, %d, %.3f)' % (n, nbr, wt))"
   ]
  },
  {
   "cell_type": "markdown",
   "metadata": {},
   "source": [
    "Notice that in undirected graphs all edges are counted twice when inspecting the adjacency of the graph.\n",
    "\n",
    "Convenient access to all edges is achieved with the edges property."
   ]
  },
  {
   "cell_type": "code",
   "execution_count": null,
   "metadata": {},
   "outputs": [],
   "source": [
    "for (u, v, wt) in FG.edges.data('weight'):\n",
    "    if wt < 0.5: \n",
    "        print('(%d, %d, %.3f)' % (u, v, wt))"
   ]
  },
  {
   "cell_type": "markdown",
   "metadata": {},
   "source": [
    "# Directed graphs\n",
    "\n",
    "The `DiGraph` class provides additional properties specific to\n",
    "directed edges, e.g.,\n",
    "`DiGraph.out_edges()`, `DiGraph.in_degree()`,\n",
    "`DiGraph.predecessors()`, `DiGraph.successors()` etc.\n",
    "To allow algorithms to work with both classes easily, the directed versions of\n",
    "`neighbors()` is equivalent to `successors()` while `degree` reports\n",
    "the sum of `in_degree` and `out_degree` even though that may feel\n",
    "inconsistent at times."
   ]
  },
  {
   "cell_type": "code",
   "execution_count": null,
   "metadata": {},
   "outputs": [],
   "source": [
    "DG = nx.DiGraph()\n",
    "DG.add_weighted_edges_from([(1, 2, 0.5), (3, 1, 0.75)])\n",
    "# outdegree (unweighted)\n",
    "print(\"Out degree of node 1:\",DG.out_degree(1)) \n",
    "# weighted outdegree\n",
    "# argument weight specifies which edge attribute to be used as weight in computing the degree (edges may have other attributes)\n",
    "print(\"Out degree of node 1:\",DG.out_degree(1, weight='weight'))\n",
    "print(\"Sum of in-degree and out-degree of node 1:\", DG.degree(1, weight='weight'))\n",
    "print(\"Successors of node 1:\", list(DG.successors(1)))\n",
    "print(\"Predecessors of node 1:\", list(DG.predecessors(1)))\n",
    "print(\"All neighbors of node 1:\", list(DG.neighbors(1)))"
   ]
  },
  {
   "cell_type": "markdown",
   "metadata": {},
   "source": [
    "Some algorithms work only for directed graphs and others are not well\n",
    "defined for directed graphs. If you want to treat\n",
    "a directed graph as undirected for some measurement you should probably\n",
    "convert it using `Graph.to_undirected()` or with"
   ]
  },
  {
   "cell_type": "code",
   "execution_count": null,
   "metadata": {},
   "outputs": [],
   "source": [
    "H = nx.Graph(DG)  # convert G to undirected graph"
   ]
  },
  {
   "cell_type": "markdown",
   "metadata": {},
   "source": [
    "# Multigraphs\n",
    "\n",
    "NetworkX provides classes for graphs which allow multiple edges\n",
    "between any pair of nodes.  The `MultiGraph` and\n",
    "`MultiDiGraph`\n",
    "classes allow you to add the same edge twice, possibly with different\n",
    "edge data (multigraph will be introduced more formally in the course in the next weeks).  This can be powerful for some applications, but many\n",
    "algorithms are not well defined on multigraphs.\n",
    "\n",
    "In some cases results are well defined,\n",
    "e.g., `MultiGraph.degree()`.  "
   ]
  },
  {
   "cell_type": "code",
   "execution_count": null,
   "metadata": {},
   "outputs": [],
   "source": [
    "MG = nx.MultiGraph()\n",
    "MG.add_weighted_edges_from([(1, 2, 0.5), (1, 2, 0.75), (2, 3, 0.5)])\n",
    "\n",
    "print(\"All nodes with their degree (without weights):\", dict(MG.degree()))\n",
    "print(\"All nodes with their degree (with weights):\", dict(MG.degree(weight='weight')))"
   ]
  },
  {
   "cell_type": "markdown",
   "metadata": {},
   "source": [
    "Otherwise you should convert to a standard graph in a way that makes the measurement\n",
    "well defined."
   ]
  },
  {
   "cell_type": "code",
   "execution_count": null,
   "metadata": {},
   "outputs": [],
   "source": [
    "# Example: \n",
    "# to compute the shortest path in a Multigraph, we construct a standard graph \n",
    "# where multiple links are replaced by a single link\n",
    "\n",
    "# create weighted graph from MG\n",
    "G = nx.Graph()\n",
    "for u,v,attr in MG.edges(data=True):\n",
    "    w = attr['weight']\n",
    "    if G.has_edge(u,v):\n",
    "        G[u][v]['weight'] += w\n",
    "    else:\n",
    "        G.add_edge(u, v, weight=w)\n",
    "\n",
    "print(nx.shortest_path(G, 1, 3), \"\\n\")\n",
    "print(\"All nodes with their degree (with weights):\", dict(G.degree(weight='weight')))"
   ]
  },
  {
   "cell_type": "markdown",
   "metadata": {},
   "source": [
    "# Graph generators and graph operations\n",
    "\n",
    "In addition to constructing graphs node-by-node or edge-by-edge, they\n",
    "can also be generated by\n",
    "\n",
    "1. Applying classic graph operations (see https://networkx.org/documentation/stable/reference/index.html for more details), such as:\n",
    "\n",
    "   ```\n",
    "   subgraph(G, nbunch)      - induced subgraph view of G on nodes in nbunch\n",
    "   union(G1,G2)             - graph union\n",
    "   disjoint_union(G1,G2)    - graph union assuming all nodes are different\n",
    "   cartesian_product(G1,G2) - return Cartesian product graph\n",
    "   compose(G1,G2)           - combine graphs identifying nodes common to both\n",
    "   to_undirected(G)         - return an undirected representation of G\n",
    "   to_directed(G)           - return a directed representation of G\n",
    "   ```\n",
    "\n",
    "1. Using a call to one of the classic small graphs, e.g.,"
   ]
  },
  {
   "cell_type": "code",
   "execution_count": null,
   "metadata": {},
   "outputs": [],
   "source": [
    "petersen = nx.petersen_graph()\n",
    "tutte = nx.tutte_graph()\n",
    "maze = nx.sedgewick_maze_graph()\n",
    "tet = nx.tetrahedral_graph()"
   ]
  },
  {
   "cell_type": "markdown",
   "metadata": {},
   "source": [
    "3. Using a (constructive) generator for a classic graph, e.g.\n",
    "\n",
    "    - complete graph `K_n`: simple (i.e., undirected, unweighted) graph consisting of `n` nodes each connected to every other node;\n",
    "    \n",
    "    - complete bipartite graph `K_n_m`: simple graph consisting of two disjoint set of nodes with order `m` and `n`, where two           nodes are connected each other if and only if they are not in the same set;\n",
    "    \n",
    "    - barbell graph `B_n`: two complete graphs with order `n`, connected by an edge.\n"
   ]
  },
  {
   "cell_type": "code",
   "execution_count": null,
   "metadata": {},
   "outputs": [],
   "source": [
    "K_4 = nx.complete_graph(4)\n",
    "K_2_3 = nx.complete_bipartite_graph(2, 3)\n",
    "B_3 = nx.barbell_graph(3, 0)"
   ]
  },
  {
   "cell_type": "code",
   "execution_count": null,
   "metadata": {},
   "outputs": [],
   "source": [
    "print(\"Edges of K_4:\", K_4.edges)\n",
    "print(\"Edges of K_2_3:\", K_2_3.edges)\n",
    "print(\"Edges of B_3:\", B_3.edges)"
   ]
  },
  {
   "cell_type": "markdown",
   "metadata": {},
   "source": [
    "4. Using a stochastic graph generator, e.g.,"
   ]
  },
  {
   "cell_type": "code",
   "execution_count": null,
   "metadata": {},
   "outputs": [],
   "source": [
    "er = nx.erdos_renyi_graph(100, 0.15)\n",
    "ws = nx.watts_strogatz_graph(30, 3, 0.1)\n",
    "ba = nx.barabasi_albert_graph(100, 5)"
   ]
  },
  {
   "cell_type": "markdown",
   "metadata": {},
   "source": [
    "# Drawing graphs\n",
    "\n",
    "NetworkX is not primarily a graph drawing package but basic drawing with\n",
    "Matplotlib is included.  \n",
    "\n",
    "First import Matplotlib’s plot interface "
   ]
  },
  {
   "cell_type": "code",
   "execution_count": null,
   "metadata": {},
   "outputs": [],
   "source": [
    "import matplotlib.pyplot as plt\n",
    "%matplotlib inline"
   ]
  },
  {
   "cell_type": "markdown",
   "metadata": {},
   "source": [
    "As an example, draw Petersen graph.\n",
    "\n",
    "The function `subplot(nmp)` divides the current figure into an n-by-m grid and creates axes in the position specified by p. Python numbers subplot positions by row. The first subplot is the first column of the first row, the second subplot is the second column of the first row, and so on."
   ]
  },
  {
   "cell_type": "code",
   "execution_count": null,
   "metadata": {},
   "outputs": [],
   "source": [
    "G = nx.petersen_graph()\n",
    "plt.subplot(121)\n",
    "nx.draw(G, with_labels=True, font_weight='bold')\n",
    "plt.subplot(122)\n",
    "nx.draw_shell(G, nlist=[range(5, 10), range(5)], with_labels=True, font_weight='bold')"
   ]
  },
  {
   "cell_type": "markdown",
   "metadata": {},
   "source": [
    "You can specify drawing options separately using an `options` dictionary.\n",
    "You can find additional options via `draw_networkx()` and\n",
    "layouts via `layout`. For example, the shell layout `draw_shell()` places different gropus of nodes in concentric circles (\"shells\")."
   ]
  },
  {
   "cell_type": "code",
   "execution_count": null,
   "metadata": {},
   "outputs": [],
   "source": [
    "options = {\n",
    "    'node_color': 'black',\n",
    "    'node_size': 100,\n",
    "    'width': 3, # width of the edges\n",
    "}\n",
    "\n",
    "plt.subplot(221)\n",
    "nx.draw_random(G, **options)\n",
    "plt.subplot(222)\n",
    "nx.draw_circular(G, **options)\n",
    "plt.subplot(223)\n",
    "nx.draw_spectral(G, **options)\n",
    "plt.subplot(224)\n",
    "nx.draw_shell(G, nlist=[range(5,10), range(5)], **options)"
   ]
  },
  {
   "cell_type": "markdown",
   "metadata": {},
   "source": [
    "See Drawing in the NetworkX Reference for additional details."
   ]
  },
  {
   "cell_type": "markdown",
   "metadata": {},
   "source": [
    "# Algorithms\n",
    "NetworkX offers the implementation of a lot of network-related algorithms, which allow performing complex graph analysis in a simple way.\n",
    "As an overview we present the following functions contained in the modules `networkx.algorithms.components` and `networkx.algorithms.cycles`."
   ]
  },
  {
   "cell_type": "markdown",
   "metadata": {},
   "source": [
    "## Strong connectivity\n",
    "A directed graph is strongly connected if and only if every node in the graph is reachable from every other node, i.e., if from every ordered pair of nodes there exists a path from the first node to the second one.\n",
    "`networkx.algorithms.components.is_strongly_connected` test directed graph for strong connectivity."
   ]
  },
  {
   "cell_type": "code",
   "execution_count": null,
   "metadata": {},
   "outputs": [],
   "source": [
    "DG = nx.DiGraph()\n",
    "DG.add_edges_from([(1,2),(2,3),(3,1),(4,5),(5,6),(6,7),(7,4),(4,1)])\n",
    "nx.draw(DG,with_labels=True)"
   ]
  },
  {
   "cell_type": "markdown",
   "metadata": {},
   "source": [
    "**Question**: is this graph strongly connected?"
   ]
  },
  {
   "cell_type": "code",
   "execution_count": null,
   "metadata": {},
   "outputs": [],
   "source": [
    "print(\"Is strongly connected:\", nx.algorithms.components.is_strongly_connected(DG))"
   ]
  },
  {
   "cell_type": "markdown",
   "metadata": {},
   "source": [
    "The analysis of the connectedness of a graph can be further refined by considering the so called `connected components` of $G$, that are the maximal subsets $V_1, V_2, ..., V_k$ of the node set $V$ such that, for every pair of nodes $i$ and $j$ in the\n",
    "same component $V_h$, there exists a path from $i$ to $j$.\n",
    "\n",
    "**Question**: how many connected components does this graph have?"
   ]
  },
  {
   "cell_type": "code",
   "execution_count": null,
   "metadata": {},
   "outputs": [],
   "source": [
    "print(\"Number of connected components:\", nx.algorithms.components.number_strongly_connected_components(DG))"
   ]
  },
  {
   "cell_type": "markdown",
   "metadata": {},
   "source": [
    "We can construct the condensation graph, which is the graph with each of the strongly connected components contracted into a single node. Edges in the condensation graph represents edges between nodes of different connected components."
   ]
  },
  {
   "cell_type": "code",
   "execution_count": null,
   "metadata": {},
   "outputs": [],
   "source": [
    "# CG condensation graph of DG\n",
    "CG = nx.algorithms.components.condensation(DG)\n",
    "plt.subplot(121)\n",
    "nx.draw(DG,with_labels=True)\n",
    "plt.subplot(122)\n",
    "nx.draw(CG, with_labels=True)"
   ]
  },
  {
   "cell_type": "markdown",
   "metadata": {},
   "source": [
    "**Question**: can a condensation graph with more than one node be strongly connected?"
   ]
  },
  {
   "cell_type": "markdown",
   "metadata": {},
   "source": [
    "Each node in $CG$ also has a node attribute `members` with the set of original nodes in $DG$ that form \n",
    "the strongly connected component that the node in $CG$ represents.\n",
    "\n",
    "We now map nodes from $CG$ into set of nodes of $DG$"
   ]
  },
  {
   "cell_type": "code",
   "execution_count": null,
   "metadata": {},
   "outputs": [],
   "source": [
    "dict(CG.nodes)"
   ]
  },
  {
   "cell_type": "markdown",
   "metadata": {},
   "source": [
    "$CG$ has a graph attribute named `mapping` with a dictionary mapping the original nodes of $DG$ to the nodes in $CG$ to which \n",
    "they belong. "
   ]
  },
  {
   "cell_type": "code",
   "execution_count": null,
   "metadata": {},
   "outputs": [],
   "source": [
    "mapping = CG.graph['mapping']\n",
    "print(mapping)"
   ]
  },
  {
   "cell_type": "markdown",
   "metadata": {},
   "source": [
    "**Note**: all previous functions related to strong connectivity can only be applied to directed graphs. Counterparts are provided for undirected graphs."
   ]
  },
  {
   "cell_type": "markdown",
   "metadata": {},
   "source": [
    "## Sinks\n",
    "**Sink**: node that does not have out-neighbors.\n",
    "\n",
    "In networkxX, an attracting component in a directed graph $DG$ is a strongly connected component with the property that a random walker on the graph will never leave the component, once it enters the component. This is equivalent to requiring that the strongly connected component is a trapping set.\n",
    "Attracting components in $DG$ consitute sinks of its condensation graph $CG$.\n",
    "\n",
    "`networkx.algorithms.components.number_attracting_components` returns the number of attracting components in $DG$.\n"
   ]
  },
  {
   "cell_type": "code",
   "execution_count": null,
   "metadata": {},
   "outputs": [],
   "source": [
    "print(\"Number of attracting components:\", nx.algorithms.components.number_attracting_components(DG))"
   ]
  },
  {
   "cell_type": "markdown",
   "metadata": {},
   "source": [
    "`networkx.algorithms.components.attracting_components` generates the attracting components of $DG$.\n",
    "You can directly list nodes of $DG$ belonging to each attracting component:"
   ]
  },
  {
   "cell_type": "code",
   "execution_count": null,
   "metadata": {},
   "outputs": [],
   "source": [
    "for c in nx.algorithms.components.attracting_components(DG):\n",
    "    print(c)"
   ]
  },
  {
   "cell_type": "markdown",
   "metadata": {},
   "source": [
    "or you can obtain the subgraphs of $DG$ induced on each attracting component and visualize them:"
   ]
  },
  {
   "cell_type": "code",
   "execution_count": null,
   "metadata": {
    "scrolled": true
   },
   "outputs": [],
   "source": [
    "# components = list of subgraphs induced on each attracting component of DG\n",
    "components = list(DG.subgraph(c).copy() for c in nx.algorithms.components.attracting_components(DG))\n",
    "\n",
    "# the number of attracting components is the length of the list\n",
    "print(len(components))\n",
    "\n",
    "nx.draw(components[0],with_labels=True)"
   ]
  },
  {
   "cell_type": "markdown",
   "metadata": {},
   "source": [
    "## Cycles\n",
    "A simple cycle is a closed path where no node appears twice. Two elementary circuits are considered distinct if they are not cyclic permutations of each other.\n",
    "\n",
    "NetworkX provides cycle finding algorithms, that can be exploited to compute the periodicity of nodes and graphs.\n",
    "For example, `networkx.algorithms.cycles.simple_cycles` find simple cycles of a directed graph"
   ]
  },
  {
   "cell_type": "code",
   "execution_count": null,
   "metadata": {
    "scrolled": true
   },
   "outputs": [],
   "source": [
    "cycles = list(nx.simple_cycles(DG))\n",
    "for cycle in cycles:\n",
    "    print(\"Cycle:\", cycle, \"Lenght:\", len(cycle))"
   ]
  },
  {
   "cell_type": "markdown",
   "metadata": {},
   "source": [
    "### Period of a node\n",
    "The period of a node is the Greatest Common Divisor of all cycles containing such node.\n",
    "\n",
    "#### Exercise 1\n",
    "Try to compute the period of each node in $DG$. \n",
    "\n",
    "**Hint**: exploit `networkx.algorithms.cycles.simple_cycles` and `math.gcd()`, which computes the GCD of two given numbers.\n",
    "Remember that you can compute the GCD of a list of numbers sequentially:"
   ]
  },
  {
   "cell_type": "code",
   "execution_count": null,
   "metadata": {},
   "outputs": [],
   "source": [
    "from math import gcd\n",
    "\n",
    "numbers = [3,9,24]\n",
    "GCD = numbers[0] # First initialize GCD with the first number of the list\n",
    "for n in numbers:\n",
    "    GCD = gcd(GCD,n)\n",
    "GCD"
   ]
  },
  {
   "cell_type": "code",
   "execution_count": null,
   "metadata": {},
   "outputs": [],
   "source": [
    "# TO DO"
   ]
  },
  {
   "cell_type": "markdown",
   "metadata": {},
   "source": [
    "#### Exercise 2\n",
    "Consider the following directed graph."
   ]
  },
  {
   "cell_type": "code",
   "execution_count": null,
   "metadata": {},
   "outputs": [],
   "source": [
    "DG = nx.DiGraph()\n",
    "n_nodes = 10\n",
    "nx.add_cycle(DG, range(n_nodes))\n",
    "for n in range(n_nodes):\n",
    "    other = n+3\n",
    "    if other>=n_nodes:\n",
    "        other-=n_nodes\n",
    "    DG.add_edge(other,n)\n",
    "nx.draw_circular(DG, with_labels=True)\n"
   ]
  },
  {
   "cell_type": "markdown",
   "metadata": {},
   "source": [
    "We can check that DG is strongly connected and not aperiodic"
   ]
  },
  {
   "cell_type": "code",
   "execution_count": null,
   "metadata": {},
   "outputs": [],
   "source": [
    "print(\"Is strongly connected:\",nx.is_strongly_connected(DG))\n",
    "print(\"Is aperiodic:\",nx.is_aperiodic(DG))"
   ]
  },
  {
   "cell_type": "markdown",
   "metadata": {},
   "source": [
    "In view of these facts, compute the period of the graph DG.\n",
    "\n",
    "**Hint:** Exploit the results from previous exercise and the fact that all nodes of a strongly connected graph have the same period."
   ]
  },
  {
   "cell_type": "code",
   "execution_count": null,
   "metadata": {},
   "outputs": [],
   "source": [
    "# TO DO"
   ]
  },
  {
   "cell_type": "markdown",
   "metadata": {},
   "source": [
    "## Spanning subgraphs\n",
    "A spanning subgraph is a subgraph that contains all the nodes of the original graph. Of particular interest are spanning trees, i.e., spanning subgraphs that are trees. Spanning trees find many applications, e.g., traveling salesman problem, and search algorithms.\n",
    "\n",
    "We can generate all the spanning subgraphs of a given graph as follows."
   ]
  },
  {
   "cell_type": "code",
   "execution_count": null,
   "metadata": {},
   "outputs": [],
   "source": [
    "import networkx as nx\n",
    "import matplotlib.pyplot as plt\n",
    "%matplotlib inline\n",
    "\n",
    "# As an example, construct a graph\n",
    "G = nx.Graph()\n",
    "nx.add_cycle(G, range(4))\n",
    "G.add_edges_from([(0,2), (1,3)]) \n",
    "nx.draw_circular(G, with_labels=True)\n",
    "\n",
    "# Define a function for computing the power set of a given set\n",
    "from itertools import chain, combinations\n",
    "\n",
    "def powerset(iterable):\n",
    "    \"powerset([1,2,3]) --> () (1,) (2,) (3,) (1,2) (1,3) (2,3) (1,2,3)\"\n",
    "    s = list(iterable)\n",
    "    return chain.from_iterable(combinations(s, r) for r in range(len(s)+1))\n",
    "\n",
    "# Use 'powerset' to compute all subgraphs of G\n",
    "subgraphs = list()\n",
    "for edge_set in powerset(G.edges):\n",
    "    H = nx.Graph()\n",
    "    H.add_nodes_from(G.nodes)\n",
    "    H.add_edges_from(edge_set)\n",
    "    subgraphs.append(H)\n",
    "print(\"Number of subgraphs:\", len(subgraphs))"
   ]
  },
  {
   "cell_type": "markdown",
   "metadata": {},
   "source": [
    "We now compute all spanning subtrees of $G$. To this end, exploit the following characterization.\n",
    "\n",
    "**Theorem**: an undirected graph $T$ is a tree if and only if it is connected and $E=N-1$, where $E$ is the number of (undirected) edges and $N$ is the number of nodes."
   ]
  },
  {
   "cell_type": "code",
   "execution_count": null,
   "metadata": {},
   "outputs": [],
   "source": [
    "trees = list()\n",
    "for H in subgraphs:\n",
    "    if H.number_of_edges()==H.number_of_nodes()-1 and nx.is_connected(H):\n",
    "        trees.append(H)\n",
    "\n",
    "print(\"Number of spanning trees:\", len(trees))"
   ]
  },
  {
   "cell_type": "markdown",
   "metadata": {},
   "source": [
    "Let us plot some of the spanning trees"
   ]
  },
  {
   "cell_type": "code",
   "execution_count": null,
   "metadata": {},
   "outputs": [],
   "source": [
    "plt.subplot(141)\n",
    "nx.draw_circular(trees[1], with_labels=True)\n",
    "\n",
    "plt.subplot(142)\n",
    "nx.draw_circular(trees[5], with_labels=True)\n",
    "\n",
    "plt.subplot(143)\n",
    "nx.draw_circular(trees[9], with_labels=True)\n",
    "\n",
    "plt.subplot(144)\n",
    "nx.draw_circular(trees[15], with_labels=True)"
   ]
  },
  {
   "cell_type": "code",
   "execution_count": null,
   "metadata": {},
   "outputs": [],
   "source": []
  },
  {
   "cell_type": "code",
   "execution_count": null,
   "metadata": {},
   "outputs": [],
   "source": []
  },
  {
   "cell_type": "code",
   "execution_count": null,
   "metadata": {},
   "outputs": [],
   "source": []
  },
  {
   "cell_type": "code",
   "execution_count": null,
   "metadata": {},
   "outputs": [],
   "source": []
  },
  {
   "cell_type": "code",
   "execution_count": null,
   "metadata": {},
   "outputs": [],
   "source": []
  },
  {
   "cell_type": "code",
   "execution_count": null,
   "metadata": {},
   "outputs": [],
   "source": []
  },
  {
   "cell_type": "code",
   "execution_count": null,
   "metadata": {},
   "outputs": [],
   "source": []
  },
  {
   "cell_type": "code",
   "execution_count": null,
   "metadata": {},
   "outputs": [],
   "source": []
  },
  {
   "cell_type": "code",
   "execution_count": null,
   "metadata": {},
   "outputs": [],
   "source": []
  },
  {
   "cell_type": "code",
   "execution_count": null,
   "metadata": {},
   "outputs": [],
   "source": []
  },
  {
   "cell_type": "code",
   "execution_count": null,
   "metadata": {},
   "outputs": [],
   "source": []
  },
  {
   "cell_type": "code",
   "execution_count": null,
   "metadata": {},
   "outputs": [],
   "source": []
  },
  {
   "cell_type": "code",
   "execution_count": null,
   "metadata": {},
   "outputs": [],
   "source": []
  },
  {
   "cell_type": "code",
   "execution_count": null,
   "metadata": {},
   "outputs": [],
   "source": []
  },
  {
   "cell_type": "code",
   "execution_count": null,
   "metadata": {},
   "outputs": [],
   "source": []
  },
  {
   "cell_type": "code",
   "execution_count": null,
   "metadata": {},
   "outputs": [],
   "source": []
  },
  {
   "cell_type": "code",
   "execution_count": null,
   "metadata": {},
   "outputs": [],
   "source": []
  },
  {
   "cell_type": "code",
   "execution_count": null,
   "metadata": {},
   "outputs": [],
   "source": []
  },
  {
   "cell_type": "code",
   "execution_count": null,
   "metadata": {},
   "outputs": [],
   "source": []
  },
  {
   "cell_type": "markdown",
   "metadata": {},
   "source": [
    "#### Solutions"
   ]
  },
  {
   "cell_type": "code",
   "execution_count": null,
   "metadata": {},
   "outputs": [],
   "source": [
    "# EXERCISE 1\n",
    "\n",
    "cycles = tuple(nx.simple_cycles(DG))\n",
    "period = []\n",
    "\n",
    "for n in DG.nodes:\n",
    "    # find cycles of the graph that contain node n, and append to a list the length of each cycle\n",
    "    len_cycles_n = []\n",
    "    for cycle in cycles:\n",
    "        if n in cycle:\n",
    "            len_cycles_n.append(len(cycle))\n",
    "    # find greatest common divisor of cycles that involve n, which is the period of node n\n",
    "    GCD = len_cycles_n[0]\n",
    "    for l in len_cycles_n:\n",
    "        GCD = gcd(GCD,l)\n",
    "    period.append((n,GCD))\n",
    "        \n",
    "print(period)"
   ]
  },
  {
   "cell_type": "code",
   "execution_count": null,
   "metadata": {},
   "outputs": [],
   "source": [
    "# EXERCISE 2\n",
    "\n",
    "cycles = tuple(nx.simple_cycles(DG))\n",
    "\n",
    "# since the graph is strongly connected, all the nodes have same period\n",
    "# we then compute period of node 1\n",
    "\n",
    "n=1\n",
    "len_cycles = []\n",
    "for cycle in cycles:\n",
    "    if n in cycle:\n",
    "        len_cycles.append(len(cycle))\n",
    "if len_cycles != []:\n",
    "    GCD = len_cycles[0]\n",
    "    for l in len_cycles:\n",
    "        GCD = gcd(GCD,l)\n",
    "    period = GCD\n",
    "else:\n",
    "    period = GCD\n",
    "        \n",
    "print(period)"
   ]
  },
  {
   "cell_type": "code",
   "execution_count": null,
   "metadata": {},
   "outputs": [],
   "source": []
  }
 ],
 "metadata": {
  "kernelspec": {
   "display_name": "Python 3",
   "language": "python",
   "name": "python3"
  },
  "language_info": {
   "codemirror_mode": {
    "name": "ipython",
    "version": 3
   },
   "file_extension": ".py",
   "mimetype": "text/x-python",
   "name": "python",
   "nbconvert_exporter": "python",
   "pygments_lexer": "ipython3",
   "version": "3.7.6"
  }
 },
 "nbformat": 4,
 "nbformat_minor": 2
}
