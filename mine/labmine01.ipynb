{
 "cells": [
  {
   "cell_type": "code",
   "execution_count": 1,
   "metadata": {},
   "outputs": [
    {
     "name": "stdout",
     "output_type": "stream",
     "text": [
      "a= [2 3 4]\n",
      "Dimension of a: (3,)\n"
     ]
    }
   ],
   "source": [
    "import numpy as np\n",
    "\n",
    "a = np.array([2,3,4])\n",
    "print(\"a=\", a)\n",
    "print(f\"Dimension of a: {a.shape}\")"
   ]
  },
  {
   "cell_type": "code",
   "execution_count": 3,
   "metadata": {},
   "outputs": [
    {
     "name": "stdout",
     "output_type": "stream",
     "text": [
      "[[1.5 2.  3. ]\n",
      " [4.  5.  6. ]]\n",
      "Dimension of b: (2, 3)\n"
     ]
    }
   ],
   "source": [
    "b = np.array([[1.5,2,3], [4,5,6]])\n",
    "print(b)\n",
    "print(f\"Dimension of b: {b.shape}\")"
   ]
  },
  {
   "cell_type": "code",
   "execution_count": 4,
   "metadata": {},
   "outputs": [
    {
     "name": "stdout",
     "output_type": "stream",
     "text": [
      "[[0. 0. 0. 0.]\n",
      " [0. 0. 0. 0.]\n",
      " [0. 0. 0. 0.]]\n",
      "[[1. 1. 1.]\n",
      " [1. 1. 1.]]\n"
     ]
    }
   ],
   "source": [
    "print(np.zeros((3,4)))\n",
    "print(np.ones((2,3)))"
   ]
  },
  {
   "cell_type": "code",
   "execution_count": 5,
   "metadata": {},
   "outputs": [
    {
     "name": "stdout",
     "output_type": "stream",
     "text": [
      "[10 15 20 25]\n",
      "[0.   0.25 0.5  0.75 1.   1.25 1.5  1.75 2.  ]\n"
     ]
    }
   ],
   "source": [
    "print(np.arange(10, 30, 5))\n",
    "# use linspace to define a numpy array\n",
    "# this array should start with 0, end with 2, and have 9 elements\n",
    "print(np.linspace(0, 2, 9))"
   ]
  },
  {
   "cell_type": "code",
   "execution_count": 6,
   "metadata": {},
   "outputs": [
    {
     "name": "stdout",
     "output_type": "stream",
     "text": [
      "a: [0 1 2 3 4 5]\n",
      "b:\n",
      "[[ 0  1  2]\n",
      " [ 3  4  5]\n",
      " [ 6  7  8]\n",
      " [ 9 10 11]]\n"
     ]
    }
   ],
   "source": [
    "# do the next step in the next cell\n",
    "a = np.arange(6)\n",
    "print(f\"a: {a}\")\n",
    "\n",
    "# reshape a to a 4x3 matrix\n",
    "b = np.arange(12).reshape(4,3)\n",
    "print(f\"b:\\n{b}\")"
   ]
  },
  {
   "cell_type": "code",
   "execution_count": 7,
   "metadata": {},
   "outputs": [
    {
     "name": "stdout",
     "output_type": "stream",
     "text": [
      "a: [20 30 40 50]\n",
      "c: [20 29 38 47]\n",
      "a*b:\n",
      "[[2 0]\n",
      " [0 4]]\n",
      "a@b:\n",
      "[[5 4]\n",
      " [3 4]]\n",
      "a.dot(b):\n",
      "[[5 4]\n",
      " [3 4]]\n"
     ]
    }
   ],
   "source": [
    "# create a\n",
    "a = np.array([20,30,40,50])\n",
    "print(f\"a: {a}\")\n",
    "\n",
    "# create b\n",
    "b = np.arange(4)\n",
    "\n",
    "# calculate c\n",
    "c = a-b\n",
    "\n",
    "# let's see what we have\n",
    "print(f\"c: {c}\")\n",
    "\n",
    "# create two numpy matrices from lists of lists\n",
    "a = np.array([\n",
    "    [1,1],\n",
    "    [0,1]\n",
    "])\n",
    "b = np.array([\n",
    "    [2,0],\n",
    "    [3,4]\n",
    "])\n",
    "\n",
    "# calculate the element-wise product\n",
    "print(f\"a*b:\\n{a*b}\")\n",
    "\n",
    "# calculate the matrix product\n",
    "print(f\"a@b:\\n{a@b}\")\n",
    "\n",
    "# calculate the matrix product in a different way\n",
    "print(f\"a.dot(b):\\n{a.dot(b)}\")"
   ]
  },
  {
   "cell_type": "code",
   "execution_count": 8,
   "metadata": {},
   "outputs": [],
   "source": [
    "import networkx as nx\n",
    "import matplotlib.pyplot as plt\n",
    "%matplotlib inline"
   ]
  },
  {
   "cell_type": "code",
   "execution_count": 9,
   "metadata": {},
   "outputs": [
    {
     "data": {
      "image/png": "[encoded data removed]",
      "text/plain": [
       "<Figure size 640x480 with 1 Axes>"
      ]
     },
     "metadata": {},
     "output_type": "display_data"
    }
   ],
   "source": [
    "G = nx.DiGraph()\n",
    "nx.add_cycle(G, [1,2,3,4])\n",
    "nx.add_cycle(G, [4,3,2,1])\n",
    "\n",
    "nx.draw_circular(G, with_labels=True)"
   ]
  },
  {
   "cell_type": "code",
   "execution_count": 10,
   "metadata": {},
   "outputs": [
    {
     "name": "stdout",
     "output_type": "stream",
     "text": [
      "W:\n",
      "[[0 1 0 1]\n",
      " [1 0 1 0]\n",
      " [0 1 0 1]\n",
      " [1 0 1 0]]\n",
      "D:\n",
      "[[2 0 0 0]\n",
      " [0 2 0 0]\n",
      " [0 0 2 0]\n",
      " [0 0 0 2]]\n",
      "P:\n",
      "[[0.  0.5 0.  0.5]\n",
      " [0.5 0.  0.5 0. ]\n",
      " [0.  0.5 0.  0.5]\n",
      " [0.5 0.  0.5 0. ]]\n"
     ]
    }
   ],
   "source": [
    "# let's build W: weight matrix of G\n",
    "W = nx.adjacency_matrix(G).toarray()\n",
    "print(f\"W:\\n{W}\")\n",
    "\n",
    "# let's build D: degree matrix of G\n",
    "degrees = np.sum(W, axis=1)\n",
    "D = np.diag(degrees)\n",
    "print(f\"D:\\n{D}\")\n",
    "\n",
    "# P = D^(-1) * W\n",
    "P = np.linalg.inv(D) @ W\n",
    "print(f\"P:\\n{P}\")"
   ]
  },
  {
   "cell_type": "code",
   "execution_count": 11,
   "metadata": {},
   "outputs": [
    {
     "name": "stdout",
     "output_type": "stream",
     "text": [
      "W2:\n",
      "[[512   0 512   0]\n",
      " [  0 512   0 512]\n",
      " [512   0 512   0]\n",
      " [  0 512   0 512]]\n",
      "G is: periodic\n"
     ]
    }
   ],
   "source": [
    "# calculate the power of a matrix\n",
    "Wx = np.linalg.matrix_power(W, 10)\n",
    "print(f\"W2:\\n{Wx}\")\n",
    "\n",
    "# note that Wx always contains zeros\n",
    "# this because it is a directed periodic graph\n",
    "\n",
    "# let's check this assumption using networkx\n",
    "print(f\"G is: {'aperiodic' if nx.is_aperiodic(G) else 'periodic'}\")"
   ]
  },
  {
   "cell_type": "code",
   "execution_count": 12,
   "metadata": {},
   "outputs": [
    {
     "name": "stdout",
     "output_type": "stream",
     "text": [
      "G2 is: aperiodic\n"
     ]
    },
    {
     "data": {
      "image/png": "[encoded data removed]",
      "text/plain": [
       "<Figure size 640x480 with 1 Axes>"
      ]
     },
     "metadata": {},
     "output_type": "display_data"
    }
   ],
   "source": [
    "# modify G to make it aperiodic\n",
    "G2 = G.copy()\n",
    "G2.add_edge(1,3)\n",
    "nx.draw_circular(G2, with_labels=True)\n",
    "print(f\"G2 is: {'aperiodic' if nx.is_aperiodic(G2) else 'periodic'}\")"
   ]
  },
  {
   "cell_type": "code",
   "execution_count": 13,
   "metadata": {},
   "outputs": [
    {
     "name": "stdout",
     "output_type": "stream",
     "text": [
      "D2:\n",
      "[[3 0 0 0]\n",
      " [0 2 0 0]\n",
      " [0 0 2 0]\n",
      " [0 0 0 2]]\n",
      "P2:\n",
      "[[0.         0.33333333 0.33333333 0.33333333]\n",
      " [0.5        0.         0.5        0.        ]\n",
      " [0.         0.5        0.         0.5       ]\n",
      " [0.5        0.         0.5        0.        ]]\n"
     ]
    }
   ],
   "source": [
    "W2 = nx.adjacency_matrix(G2).toarray()\n",
    "degrees = np.sum(W2, axis=1)\n",
    "D2 = np.diag(degrees)\n",
    "print(f\"D2:\\n{D2}\")\n",
    "\n",
    "P2 = np.linalg.inv(D2) @ W2\n",
    "print(f\"P2:\\n{P2}\")"
   ]
  },
  {
   "cell_type": "code",
   "execution_count": 14,
   "metadata": {},
   "outputs": [
    {
     "name": "stdout",
     "output_type": "stream",
     "text": [
      "W ^ 4 : is the first non-zero matrix.\n",
      "[[ 8  6 10  6]\n",
      " [ 2  8  6  8]\n",
      " [ 8  2  8  2]\n",
      " [ 2  8  6  8]]\n"
     ]
    }
   ],
   "source": [
    "power: np.array = W2\n",
    "# while power has at least one element equal to 0\n",
    "# print the power and calculate the next power\n",
    "count: int = 1\n",
    "while np.any(power == 0):\n",
    "    power = power @ W2\n",
    "    count += 1\n",
    "    \n",
    "print(f\"W ^ {count} : is the first non-zero matrix.\\n{power}\")"
   ]
  },
  {
   "cell_type": "code",
   "execution_count": 15,
   "metadata": {},
   "outputs": [
    {
     "data": {
      "image/png": "[encoded data removed]",
      "text/plain": [
       "<Figure size 640x480 with 1 Axes>"
      ]
     },
     "metadata": {},
     "output_type": "display_data"
    }
   ],
   "source": [
    "# let's build a generator for colors\n",
    "\n",
    "def color_generator():\n",
    "    while 1:\n",
    "        yield 'blue'\n",
    "        yield 'red'        \n",
    "c = color_generator()\n",
    "\n",
    "nx.draw_circular(G, with_labels=True, node_color=[next(c) for _ in G.nodes])"
   ]
  },
  {
   "cell_type": "code",
   "execution_count": 17,
   "metadata": {},
   "outputs": [
    {
     "name": "stdout",
     "output_type": "stream",
     "text": [
      "G is bipartite\n",
      "Eigenvalues of P:\n",
      "[-1.00000000e+00  3.29868511e-17  1.00000000e+00  0.00000000e+00]\n"
     ]
    }
   ],
   "source": [
    "# consider G: \n",
    "# check if it is bipartite\n",
    "print(f\"G is {'bipartite' if nx.is_bipartite(G) else 'not bipartite'}\")\n",
    "\n",
    "# Perron-Frobenius theorem\n",
    "# if a graph is bipartite, then the spectrum \n",
    "# of its normalized adjacency matrix contains -1\n",
    "\n",
    "# let's build the normalized adjacency matrix\n",
    "W = nx.adjacency_matrix(G).toarray()\n",
    "degrees = np.sum(W, axis=1)\n",
    "D = np.diag(degrees)\n",
    "P = np.linalg.inv(D) @ W\n",
    "\n",
    "# calculate the eigenvalues of P\n",
    "eigenvalues = np.linalg.eigvals(P)\n",
    "print(f\"Eigenvalues of P:\\n{eigenvalues}\")\n"
   ]
  }
 ],
 "metadata": {
  "kernelspec": {
   "display_name": "dynamics",
   "language": "python",
   "name": "python3"
  },
  "language_info": {
   "codemirror_mode": {
    "name": "ipython",
    "version": 3
   },
   "file_extension": ".py",
   "mimetype": "text/x-python",
   "name": "python",
   "nbconvert_exporter": "python",
   "pygments_lexer": "ipython3",
   "version": "3.10.9"
  },
  "orig_nbformat": 4
 },
 "nbformat": 4,
 "nbformat_minor": 2
}
